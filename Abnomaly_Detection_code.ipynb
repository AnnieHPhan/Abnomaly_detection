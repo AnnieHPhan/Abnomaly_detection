{
 "cells": [
  {
   "cell_type": "markdown",
   "metadata": {},
   "source": [
    "# Predictive Analytics Modeling Exercise"
   ]
  },
  {
   "cell_type": "code",
   "execution_count": 1,
   "metadata": {},
   "outputs": [
    {
     "name": "stdout",
     "output_type": "stream",
     "text": [
      "TensorFlow version: 2.3.0\n"
     ]
    }
   ],
   "source": [
    "# install Tensorflow if necessary\n",
    "#pip install tensorflow\n",
    "#pip install keras\n",
    "import tensorflow as tf\n",
    "print (\"TensorFlow version: \" + tf.__version__)"
   ]
  },
  {
   "cell_type": "code",
   "execution_count": 2,
   "metadata": {},
   "outputs": [],
   "source": [
    "from tensorflow import keras"
   ]
  },
  {
   "cell_type": "code",
   "execution_count": 3,
   "metadata": {},
   "outputs": [],
   "source": [
    "import pandas as pd\n",
    "from pandas.plotting import scatter_matrix\n",
    "import numpy as np\n",
    "import seaborn as sns\n",
    "import pickle\n",
    "import matplotlib.pyplot as plt\n",
    "from scipy import stats\n",
    "import seaborn as sns\n",
    "from pylab import rcParams\n",
    "from sklearn.model_selection import train_test_split\n",
    "from sklearn.linear_model import LogisticRegression\n",
    "from sklearn.metrics import mean_squared_error\n",
    "import h5py\n",
    "from keras.models import Model, load_model\n",
    "from keras.layers import Input, Dense\n",
    "from keras.callbacks import ModelCheckpoint, EarlyStopping\n",
    "from keras import regularizers\n",
    "sns.set(style=\"whitegrid\")\n",
    "%matplotlib inline"
   ]
  },
  {
   "cell_type": "markdown",
   "metadata": {},
   "source": [
    "## LOADING DATASETS"
   ]
  },
  {
   "cell_type": "markdown",
   "metadata": {},
   "source": [
    "The dataset consists of 12073 samples in the learning set and 5366 samples in the prediction set. There are 79 variables drawn from different databases, which is why they are split between ‘Group A’ and ‘Group B’ files. The code variable is a categorical variable. The zip variable contains zip codes. Remaining variables are a mix of continuous and categorical variables. Some features include missing values. The id column is a unique sample identifier and hence not a variable."
   ]
  },
  {
   "cell_type": "code",
   "execution_count": 4,
   "metadata": {},
   "outputs": [
    {
     "name": "stdout",
     "output_type": "stream",
     "text": [
      "(12073, 19)\n"
     ]
    }
   ],
   "source": [
    "# import GroupA files\n",
    "GrA_train = pd.read_csv(\"featuresGroupAlearning.csv\")\n",
    "test_GrA = pd.read_csv(\"featuresGroupAprediction.csv\")\n",
    "print(GrA_train.shape)\n",
    "#GrA_train.head()"
   ]
  },
  {
   "cell_type": "code",
   "execution_count": 5,
   "metadata": {},
   "outputs": [
    {
     "name": "stdout",
     "output_type": "stream",
     "text": [
      "(5366, 19)\n"
     ]
    }
   ],
   "source": [
    "print(test_GrA.shape)"
   ]
  },
  {
   "cell_type": "markdown",
   "metadata": {},
   "source": [
    "### 1. Exploratory Data Analysis"
   ]
  },
  {
   "cell_type": "markdown",
   "metadata": {},
   "source": [
    "#### 1.1 Group A files"
   ]
  },
  {
   "cell_type": "code",
   "execution_count": 6,
   "metadata": {},
   "outputs": [
    {
     "name": "stdout",
     "output_type": "stream",
     "text": [
      "<class 'pandas.core.frame.DataFrame'>\n",
      "RangeIndex: 12073 entries, 0 to 12072\n",
      "Data columns (total 19 columns):\n",
      "id     12073 non-null object\n",
      "a00    12069 non-null float64\n",
      "a01    12073 non-null float64\n",
      "a02    11945 non-null float64\n",
      "a03    11944 non-null float64\n",
      "a04    11940 non-null float64\n",
      "a05    11952 non-null float64\n",
      "a06    11951 non-null float64\n",
      "a07    11936 non-null float64\n",
      "a08    11958 non-null float64\n",
      "a09    11967 non-null float64\n",
      "a10    11971 non-null float64\n",
      "a11    11937 non-null float64\n",
      "a12    12070 non-null float64\n",
      "a13    11960 non-null float64\n",
      "a14    12071 non-null float64\n",
      "a15    12068 non-null float64\n",
      "a16    11945 non-null float64\n",
      "a17    11931 non-null float64\n",
      "dtypes: float64(18), object(1)\n",
      "memory usage: 1.8+ MB\n",
      "None\n"
     ]
    }
   ],
   "source": [
    "# Explore the features available in dataframe\n",
    "print(GrA_train.info())"
   ]
  },
  {
   "cell_type": "code",
   "execution_count": 7,
   "metadata": {},
   "outputs": [],
   "source": [
    "# check the volumn of missing data \n",
    "def check_missing_df(df):\n",
    "    # look at how many missing values for the columns\n",
    "    missing_values_count= df.isnull().sum()\n",
    "    missing_values_percentage=np.round(df.isnull().sum()/df.shape[0]*100,2)\n",
    "\n",
    "    #show it in dataframe\n",
    "    data = {'Number_missing':missing_values_count, 'Missing_percentage':missing_values_percentage} \n",
    "    \n",
    "    # Create DataFrame \n",
    "    missing_info = pd.DataFrame(data) \n",
    "    \n",
    "    # Print the output. \n",
    "    display(missing_info.sort_values('Missing_percentage',ascending = False))"
   ]
  },
  {
   "cell_type": "code",
   "execution_count": 9,
   "metadata": {},
   "outputs": [],
   "source": [
    "#check_missing_df(GrA_train)"
   ]
  },
  {
   "cell_type": "code",
   "execution_count": 10,
   "metadata": {},
   "outputs": [],
   "source": [
    "#check_missing_df(test_GrA)"
   ]
  },
  {
   "cell_type": "code",
   "execution_count": 11,
   "metadata": {},
   "outputs": [],
   "source": [
    "# summary statistics\n",
    "# GrA_train.describe()"
   ]
  },
  {
   "cell_type": "code",
   "execution_count": 12,
   "metadata": {},
   "outputs": [],
   "source": [
    "#test_GrA.describe()"
   ]
  },
  {
   "cell_type": "markdown",
   "metadata": {},
   "source": [
    "Checking the missing data inside the dataset"
   ]
  },
  {
   "cell_type": "code",
   "execution_count": 13,
   "metadata": {},
   "outputs": [
    {
     "data": {
      "text/plain": [
       "<matplotlib.axes._subplots.AxesSubplot at 0x7fddb6d21410>"
      ]
     },
     "execution_count": 13,
     "metadata": {},
     "output_type": "execute_result"
    },
    {
     "data": {
      "image/png": "[encoded data removed]",
      "text/plain": [
       "<Figure size 1800x720 with 2 Axes>"
      ]
     },
     "metadata": {
      "needs_background": "light"
     },
     "output_type": "display_data"
    }
   ],
   "source": [
    "#pip install missingno\n",
    "import missingno as msno\n",
    "msno.matrix(GrA_train, color=(1, 0.38, 0.27))"
   ]
  },
  {
   "cell_type": "code",
   "execution_count": 14,
   "metadata": {},
   "outputs": [
    {
     "data": {
      "text/plain": [
       "<matplotlib.axes._subplots.AxesSubplot at 0x7fddb7074790>"
      ]
     },
     "execution_count": 14,
     "metadata": {},
     "output_type": "execute_result"
    },
    {
     "data": {
      "image/png": "[encoded data removed]",
      "text/plain": [
       "<Figure size 792x648 with 2 Axes>"
      ]
     },
     "metadata": {
      "needs_background": "light"
     },
     "output_type": "display_data"
    }
   ],
   "source": [
    "# Compute the correlation matrix\n",
    "corr = GrA_train.corr()\n",
    "\n",
    "# Generate a mask for the upper triangle\n",
    "mask = np.triu(np.ones_like(corr, dtype=bool))\n",
    "\n",
    "# Set up the matplotlib figure\n",
    "f, ax = plt.subplots(figsize=(11, 9))\n",
    "\n",
    "# Generate a custom diverging colormap\n",
    "cmap = sns.diverging_palette(20, 220, as_cmap=True)\n",
    "\n",
    "# Draw the heatmap with the mask and correct aspect ratio\n",
    "sns.heatmap(corr, mask=mask, cmap=cmap, vmax=.3, center=0,\n",
    "            square=True, linewidths=.5, cbar_kws={\"shrink\": .5})"
   ]
  },
  {
   "cell_type": "markdown",
   "metadata": {},
   "source": [
    "This map shows that dataset have low correlation between 18 variable."
   ]
  },
  {
   "cell_type": "code",
   "execution_count": 15,
   "metadata": {},
   "outputs": [
    {
     "data": {
      "text/plain": [
       "<matplotlib.axes._subplots.AxesSubplot at 0x7fddb6495cd0>"
      ]
     },
     "execution_count": 15,
     "metadata": {},
     "output_type": "execute_result"
    },
    {
     "data": {
      "image/png": "[encoded data removed]",
      "text/plain": [
       "<Figure size 1080x1080 with 1 Axes>"
      ]
     },
     "metadata": {
      "needs_background": "light"
     },
     "output_type": "display_data"
    }
   ],
   "source": [
    "plt.figure(figsize=(15,15))\n",
    "sns.boxplot(data=GrA_train, orient=\"h\", palette=\"Set2\")"
   ]
  },
  {
   "cell_type": "markdown",
   "metadata": {},
   "source": [
    "#### Imputation missing data\n",
    "The a00 and a15 are integer, not float number. Before changing the type of data, we need to fill missing data for these variablea. Because they are interger number, I choose median to replace NA."
   ]
  },
  {
   "cell_type": "code",
   "execution_count": 16,
   "metadata": {},
   "outputs": [],
   "source": [
    "# filling NA for train dataset\n",
    "values = {'a00': 561, 'a15': 769}\n",
    "GrA_train = GrA_train.fillna(value=values)"
   ]
  },
  {
   "cell_type": "code",
   "execution_count": 17,
   "metadata": {},
   "outputs": [
    {
     "data": {
      "text/plain": [
       "pandas.core.series.Series"
      ]
     },
     "execution_count": 17,
     "metadata": {},
     "output_type": "execute_result"
    }
   ],
   "source": [
    "type(GrA_train.a00)"
   ]
  },
  {
   "cell_type": "code",
   "execution_count": 18,
   "metadata": {},
   "outputs": [],
   "source": [
    "# filling NA for train dataset\n",
    "values1 = {'a00': 565, 'a15': 776}\n",
    "test_GrA = test_GrA.fillna(value=values1)"
   ]
  },
  {
   "cell_type": "code",
   "execution_count": 19,
   "metadata": {},
   "outputs": [],
   "source": [
    "# create list of column need to convert to interger type\n",
    "cols = ['a00', 'a15']\n",
    "\n",
    "# loop to change each column to interger type\n",
    "for col in cols:\n",
    "    GrA_train[col] = GrA_train[col].astype('int',copy=False)\n",
    "    test_GrA[col] = test_GrA[col].astype('int',copy=False)"
   ]
  },
  {
   "cell_type": "markdown",
   "metadata": {},
   "source": [
    "The a12 and a14 are categorical type, not numeric, so we need to change the type of data. I choose the most frequency type from count value table to fill the NA for these variables."
   ]
  },
  {
   "cell_type": "code",
   "execution_count": 20,
   "metadata": {},
   "outputs": [],
   "source": [
    "#GrA_train.a12.value_counts(dropna=False)"
   ]
  },
  {
   "cell_type": "code",
   "execution_count": 21,
   "metadata": {},
   "outputs": [],
   "source": [
    "#GrA_train.a14.value_counts(dropna=False)"
   ]
  },
  {
   "cell_type": "code",
   "execution_count": 22,
   "metadata": {},
   "outputs": [],
   "source": [
    "# filling NA for train dataset\n",
    "values2 = {'a12': 4, 'a14': 6}\n",
    "GrA_train = GrA_train.fillna(value=values2)"
   ]
  },
  {
   "cell_type": "code",
   "execution_count": 23,
   "metadata": {},
   "outputs": [],
   "source": [
    "#test_GrA.a12.value_counts(dropna=False)"
   ]
  },
  {
   "cell_type": "code",
   "execution_count": 24,
   "metadata": {},
   "outputs": [],
   "source": [
    "#test_GrA.a14.value_counts(dropna=False)"
   ]
  },
  {
   "cell_type": "code",
   "execution_count": 25,
   "metadata": {},
   "outputs": [],
   "source": [
    "# filling NA for predict dataset\n",
    "test_GrA = test_GrA.fillna(value=values2)"
   ]
  },
  {
   "cell_type": "code",
   "execution_count": 26,
   "metadata": {},
   "outputs": [],
   "source": [
    "# create list of column need to convert to category type\n",
    "cats = ['a12', 'a14']\n",
    "\n",
    "# loop to change each column to interger type\n",
    "for col in cats:\n",
    "    GrA_train[col] = GrA_train[col].astype('int',copy=False)\n",
    "    test_GrA[col] = test_GrA[col].astype('int',copy=False)"
   ]
  },
  {
   "cell_type": "code",
   "execution_count": 27,
   "metadata": {},
   "outputs": [
    {
     "data": {
      "text/plain": [
       "pandas.core.series.Series"
      ]
     },
     "execution_count": 27,
     "metadata": {},
     "output_type": "execute_result"
    }
   ],
   "source": [
    "type(GrA_train.a12)"
   ]
  },
  {
   "cell_type": "markdown",
   "metadata": {},
   "source": [
    "For other columns, I'm going to use mean value to fill NA because we can see not much different between mean and median in descriptive table and boxplot."
   ]
  },
  {
   "cell_type": "code",
   "execution_count": 28,
   "metadata": {},
   "outputs": [
    {
     "data": {
      "text/plain": [
       "Index(['id', 'a00', 'a01', 'a02', 'a03', 'a04', 'a05', 'a06', 'a07', 'a08',\n",
       "       'a09', 'a10', 'a11', 'a12', 'a13', 'a14', 'a15', 'a16', 'a17'],\n",
       "      dtype='object')"
      ]
     },
     "execution_count": 28,
     "metadata": {},
     "output_type": "execute_result"
    }
   ],
   "source": [
    "GrA_train.columns"
   ]
  },
  {
   "cell_type": "code",
   "execution_count": 29,
   "metadata": {},
   "outputs": [],
   "source": [
    "#GrA_train[['a01', 'a02', 'a03', 'a04', 'a05', 'a06', 'a07', 'a08',\n",
    "#       'a09', 'a10', 'a11', 'a13', 'a16', 'a17']].head()"
   ]
  },
  {
   "cell_type": "code",
   "execution_count": 30,
   "metadata": {},
   "outputs": [],
   "source": [
    "# create list of column need to fill missing value\n",
    "cols = ['a01', 'a02', 'a03', 'a04', 'a05', 'a06', 'a07', 'a08',\n",
    "       'a09', 'a10', 'a11', 'a13', 'a16', 'a17']\n",
    "\n",
    "# loop to fill each column \n",
    "for col in cols:\n",
    "    GrA_train[col].fillna(GrA_train[col].mean(), inplace=True)\n",
    "    test_GrA[col].fillna(test_GrA[col].mean(), inplace=True)"
   ]
  },
  {
   "cell_type": "code",
   "execution_count": 31,
   "metadata": {},
   "outputs": [
    {
     "data": {
      "text/plain": [
       "<matplotlib.axes._subplots.AxesSubplot at 0x7fddb6a5be50>"
      ]
     },
     "execution_count": 31,
     "metadata": {},
     "output_type": "execute_result"
    },
    {
     "data": {
      "image/png": "[encoded data removed]",
      "text/plain": [
       "<Figure size 792x648 with 2 Axes>"
      ]
     },
     "metadata": {
      "needs_background": "light"
     },
     "output_type": "display_data"
    }
   ],
   "source": [
    "# Compute the correlation matrix\n",
    "corr = GrA_train.corr(method='pearson', min_periods=1)\n",
    "\n",
    "# Generate a mask for the upper triangle\n",
    "mask = np.triu(np.ones_like(corr, dtype=bool))\n",
    "\n",
    "# Set up the matplotlib figure\n",
    "f, ax = plt.subplots(figsize=(11, 9))\n",
    "\n",
    "# Generate a custom diverging colormap\n",
    "cmap = sns.diverging_palette(20, 220, as_cmap=True)\n",
    "\n",
    "# Draw the heatmap with the mask and correct aspect ratio\n",
    "sns.heatmap(corr, mask=mask, cmap=cmap, vmax=.3, center=0,\n",
    "            square=True, linewidths=.5, cbar_kws={\"shrink\": .5})"
   ]
  },
  {
   "cell_type": "code",
   "execution_count": 32,
   "metadata": {},
   "outputs": [
    {
     "data": {
      "text/plain": [
       "<matplotlib.axes._subplots.AxesSubplot at 0x7fddb717df10>"
      ]
     },
     "execution_count": 32,
     "metadata": {},
     "output_type": "execute_result"
    },
    {
     "data": {
      "image/png": "[encoded data removed]",
      "text/plain": [
       "<Figure size 432x288 with 1 Axes>"
      ]
     },
     "metadata": {
      "needs_background": "light"
     },
     "output_type": "display_data"
    }
   ],
   "source": [
    "GrA_train.a00.hist()"
   ]
  },
  {
   "cell_type": "markdown",
   "metadata": {},
   "source": [
    "#### 1.2 GroupB files"
   ]
  },
  {
   "cell_type": "code",
   "execution_count": 33,
   "metadata": {},
   "outputs": [
    {
     "name": "stdout",
     "output_type": "stream",
     "text": [
      "(12073, 62)\n"
     ]
    }
   ],
   "source": [
    "# import Group8 files\n",
    "GrB_train = pd.read_csv(\"featuresGroupBlearning.csv\")\n",
    "test_GrB = pd.read_csv(\"featuresGroupBprediction.csv\")\n",
    "print(GrB_train.shape)\n",
    "#GrB_train.head()"
   ]
  },
  {
   "cell_type": "code",
   "execution_count": 33,
   "metadata": {},
   "outputs": [],
   "source": [
    "# Explore the features available in dataframe\n",
    "# print(GrB_train.info())"
   ]
  },
  {
   "cell_type": "code",
   "execution_count": 34,
   "metadata": {},
   "outputs": [],
   "source": [
    "#with pd.option_context('display.max_rows', None, 'display.max_columns', None):\n",
    "#    print(check_missing_df(GrB_train))"
   ]
  },
  {
   "cell_type": "code",
   "execution_count": 35,
   "metadata": {},
   "outputs": [],
   "source": [
    "# summary statistics for Group B Learning dataset\n",
    "#GrB_train.describe(percentiles=[]).transpose()"
   ]
  },
  {
   "cell_type": "code",
   "execution_count": 36,
   "metadata": {},
   "outputs": [],
   "source": [
    "#GrB_train.code.value_counts(dropna=False)"
   ]
  },
  {
   "cell_type": "code",
   "execution_count": 37,
   "metadata": {},
   "outputs": [],
   "source": [
    "#test_GrB.code.value_counts(dropna=False)"
   ]
  },
  {
   "cell_type": "code",
   "execution_count": 38,
   "metadata": {},
   "outputs": [],
   "source": [
    "# most frequent value of code is 1000009\n",
    "values3 = {'code': 1000009}\n",
    "GrB_train = GrB_train.fillna(value=values3)\n",
    "test_GrB = test_GrB.fillna(value=values3)"
   ]
  },
  {
   "cell_type": "code",
   "execution_count": 39,
   "metadata": {},
   "outputs": [],
   "source": [
    "# convert label to a numerical variable\n",
    "#GrB_train[['code']] = GrB_train[['code']].astype('str').replace(regex={'1000009.0': '9','1000002.0': '2', \n",
    "#                                                                       '1000003.0': '3','1000001.0': '1', \n",
    "#                                                                       '1000008.0': '8','1000005.0': '5',\n",
    "#                                                                      '1000007.0': '7','1000000.0': '0',\n",
    "#                                                                       '1000006.0': '6','1000004.0': '4'})\n",
    "#test_GrB[['code']] = test_GrB[['code']].astype('str').replace(regex={'1000009.0': '9','1000002.0': '2', \n",
    "#                                                                       '1000003.0': '3','1000001.0': '1', \n",
    "#                                                                       '1000008.0': '8','1000005.0': '5',\n",
    "#                                                                       '1000007.0': '7','1000000.0': '0',\n",
    "#                                                                       '1000006.0': '6','1000004.0': '4'})"
   ]
  },
  {
   "cell_type": "code",
   "execution_count": 40,
   "metadata": {},
   "outputs": [],
   "source": [
    "# create list of column need to fill missing value\n",
    "cols = ['b07', 'b25']\n",
    "\n",
    "# loop to fill each column \n",
    "for col in cols:\n",
    "    GrB_train[col].fillna(GrB_train[col].median(), inplace=True)\n",
    "    test_GrB[col].fillna(test_GrB[col].median(), inplace=True)"
   ]
  },
  {
   "cell_type": "code",
   "execution_count": 41,
   "metadata": {},
   "outputs": [],
   "source": [
    "#print(GrB_train.b13.value_counts(dropna=False))\n",
    "#print(test_GrB.b13.value_counts(dropna=False))"
   ]
  },
  {
   "cell_type": "code",
   "execution_count": 42,
   "metadata": {},
   "outputs": [],
   "source": [
    "#print(test_GrB.b14.value_counts(dropna=False))\n",
    "#print(GrB_train.b14.value_counts(dropna=False))"
   ]
  },
  {
   "cell_type": "code",
   "execution_count": 43,
   "metadata": {},
   "outputs": [],
   "source": [
    "#print(GrB_train.b39.value_counts(dropna=False))\n",
    "#print(test_GrB.b39.value_counts(dropna=False))"
   ]
  },
  {
   "cell_type": "code",
   "execution_count": 44,
   "metadata": {},
   "outputs": [],
   "source": [
    "values4 = {'b13': 5, 'b14': 6, 'b39': 6}\n",
    "GrB_train = GrB_train.fillna(value=values4)\n",
    "test_GrB = test_GrB.fillna(value=values4)"
   ]
  },
  {
   "cell_type": "code",
   "execution_count": 45,
   "metadata": {},
   "outputs": [],
   "source": [
    "# create list of column need to convert\n",
    "colus = ['b07', 'b13', 'b14','b25', 'b39']\n",
    "\n",
    "# loop to change each column to interger type\n",
    "for col in colus:\n",
    "    GrB_train[col] = GrB_train[col].astype('int',copy=False)\n",
    "    test_GrB[col] = test_GrB[col].astype('int',copy=False)"
   ]
  },
  {
   "cell_type": "markdown",
   "metadata": {},
   "source": [
    "Explore b21 variable "
   ]
  },
  {
   "cell_type": "code",
   "execution_count": 46,
   "metadata": {},
   "outputs": [],
   "source": [
    "#GrB_train.b21.value_counts(dropna=False)"
   ]
  },
  {
   "cell_type": "code",
   "execution_count": 47,
   "metadata": {},
   "outputs": [],
   "source": [
    "values5 = {'b21': 'Central'}\n",
    "GrB_train = GrB_train.fillna(value=values5)\n",
    "test_GrB = test_GrB.fillna(value=values5)"
   ]
  },
  {
   "cell_type": "code",
   "execution_count": 48,
   "metadata": {},
   "outputs": [],
   "source": [
    "# convert label to a numerical variable - train data\n",
    "#GrB_train[['b21']] = GrB_train[['b21']].replace(dict.fromkeys(['Central'], '1'))\n",
    "#GrB_train[['b21']] = GrB_train[['b21']].replace(dict.fromkeys(['West'], '2'))\n",
    "#GrB_train[['b21']] = GrB_train[['b21']].replace(dict.fromkeys(['East'], '3'))\n",
    "\n",
    "# convert label to a numerical variable - prediction data\n",
    "#test_GrB[['b21']] = test_GrB[['b21']].replace(dict.fromkeys(['Central'], '1'))\n",
    "#test_GrB[['b21']] = test_GrB[['b21']].replace(dict.fromkeys(['West'], '2'))\n",
    "#test_GrB[['b21']] = test_GrB[['b21']].replace(dict.fromkeys(['East'], '3'))"
   ]
  },
  {
   "cell_type": "code",
   "execution_count": 49,
   "metadata": {},
   "outputs": [],
   "source": [
    "#GrB_train.b21.value_counts(dropna=False)"
   ]
  },
  {
   "cell_type": "markdown",
   "metadata": {},
   "source": [
    "Explore b34 and b58 variables"
   ]
  },
  {
   "cell_type": "code",
   "execution_count": 50,
   "metadata": {},
   "outputs": [],
   "source": [
    "#GrB_train.b34.unique()"
   ]
  },
  {
   "cell_type": "code",
   "execution_count": 51,
   "metadata": {},
   "outputs": [],
   "source": [
    "# clean name of the day to standard form\n",
    "# training data\n",
    "GrB_train[['b34']] = GrB_train[['b34']].replace(dict.fromkeys(['mon', 'mon.', 'Monday', 'monday', 'Mon'], '2'))\n",
    "GrB_train[['b34']] = GrB_train[['b34']].replace(dict.fromkeys(['tuesday', 'tue', 'Tue.', 'Tuesday', 'tue.','Tue'], '3'))\n",
    "GrB_train[['b34']] = GrB_train[['b34']].replace(dict.fromkeys(['Wed.','wednesday', 'Wed', 'Wednesday','wed','Wendsday', 'wendsday'], '4'))\n",
    "GrB_train[['b34']] = GrB_train[['b34']].replace(dict.fromkeys(['thu', 'thu.','thursday', 'Thursday', 'Thu', 'Thu.', 'thurday'], '5'))\n",
    "GrB_train[['b34']] = GrB_train[['b34']].replace(dict.fromkeys(['fri', 'friday', 'Friday','fri.','Fri', 'Fri.'], '6'))\n",
    "# prediction data\n",
    "test_GrB[['b34']] = test_GrB[['b34']].replace(dict.fromkeys(['mon', 'mon.', 'Monday', 'monday', 'Mon'], '2'))\n",
    "test_GrB[['b34']] = test_GrB[['b34']].replace(dict.fromkeys(['Teusday','tuesday', 'tue', 'Tue.', 'Tuesday', 'tue.','Tue'], '3'))\n",
    "test_GrB[['b34']] = test_GrB[['b34']].replace(dict.fromkeys(['Wed.','wednesday', 'Wed', 'Wednesday','wed','Wendsday', 'wendsday'], '4'))\n",
    "test_GrB[['b34']] = test_GrB[['b34']].replace(dict.fromkeys(['thu', 'thu.','thursday', 'Thursday', 'Thu', 'Thu.', 'thurday'], '5'))\n",
    "test_GrB[['b34']] = test_GrB[['b34']].replace(dict.fromkeys(['fri', 'friday', 'Friday','fri.','Fri', 'Fri.'], '6'))"
   ]
  },
  {
   "cell_type": "code",
   "execution_count": 52,
   "metadata": {},
   "outputs": [],
   "source": [
    "#print(GrB_train.b34.value_counts(dropna=False))\n",
    "#print(test_GrB.b34.value_counts(dropna=False))"
   ]
  },
  {
   "cell_type": "code",
   "execution_count": 53,
   "metadata": {},
   "outputs": [],
   "source": [
    "# most frequent value of day is Wed\n",
    "values6 = {'b34': '4'}\n",
    "GrB_train = GrB_train.fillna(value=values6)\n",
    "test_GrB = test_GrB.fillna(value=values6)"
   ]
  },
  {
   "cell_type": "code",
   "execution_count": 54,
   "metadata": {},
   "outputs": [],
   "source": [
    "#GrB_train.b58.unique()"
   ]
  },
  {
   "cell_type": "code",
   "execution_count": 55,
   "metadata": {},
   "outputs": [],
   "source": [
    "# clean name of the day to standard form\n",
    "# training data\n",
    "GrB_train[['b58']] = GrB_train[['b58']].replace(dict.fromkeys(['jan.', 'jan'], '1'))\n",
    "GrB_train[['b58']] = GrB_train[['b58']].replace(dict.fromkeys(['february','Feb.', 'feb', 'February', 'Feb','feb.'], '2'))\n",
    "GrB_train[['b58']] = GrB_train[['b58']].replace(dict.fromkeys(['March','Mar.', 'mar.','mar','march', 'Mar', 'Marhc'], '3'))\n",
    "GrB_train[['b58']] = GrB_train[['b58']].replace(dict.fromkeys(['apr.','April','apr', 'april','Apr','Apr.','Apirl'], '4'))\n",
    "GrB_train[['b58']] = GrB_train[['b58']].replace(dict.fromkeys(['May','may'], '5'))\n",
    "GrB_train[['b58']] = GrB_train[['b58']].replace(dict.fromkeys(['jun', 'Jun.', 'Jun', 'June', 'june'], '6'))\n",
    "GrB_train[['b58']] = GrB_train[['b58']].replace(dict.fromkeys(['jul',], '7'))\n",
    "GrB_train[['b58']] = GrB_train[['b58']].replace(dict.fromkeys(['Aug.', 'Aug','August','Augest', 'aug.', 'aug','august'], '8'))\n",
    "GrB_train[['b58']] = GrB_train[['b58']].replace(dict.fromkeys(['sep.', 'sept.', 'sep', 'Sep','sept','september', 'Sept.','Sep.'], '9'))\n",
    "GrB_train[['b58']] = GrB_train[['b58']].replace(dict.fromkeys(['oct','Oct.', 'October','oct.','october','Oct'], '10'))\n",
    "GrB_train[['b58']] = GrB_train[['b58']].replace(dict.fromkeys(['Nov.', 'nov', 'nov.','november','November','Nov'], '11'))\n",
    "GrB_train[['b58']] = GrB_train[['b58']].replace(dict.fromkeys(['december', 'dec.', 'dec','December'], '12'))\n",
    "\n",
    "# prediction dataset\n",
    "test_GrB[['b58']] = test_GrB[['b58']].replace(dict.fromkeys(['jan.', 'jan', 'January','Jan'], '1'))\n",
    "test_GrB[['b58']] = test_GrB[['b58']].replace(dict.fromkeys(['february','Feb.', 'feb', 'February', 'Feb','feb.'], '2'))\n",
    "test_GrB[['b58']] = test_GrB[['b58']].replace(dict.fromkeys(['March','Mar.', 'mar.','mar','march', 'Mar', 'Marhc'], '3'))\n",
    "test_GrB[['b58']] = test_GrB[['b58']].replace(dict.fromkeys(['apr.','April','apr', 'april','Apr','Apr.','Apirl'], '4'))\n",
    "test_GrB[['b58']] = test_GrB[['b58']].replace(dict.fromkeys(['May','may'], '5'))\n",
    "test_GrB[['b58']] = test_GrB[['b58']].replace(dict.fromkeys(['jun', 'Jun.', 'Jun', 'June', 'june'], '6'))\n",
    "test_GrB[['b58']] = test_GrB[['b58']].replace(dict.fromkeys(['jul',], '7'))\n",
    "test_GrB[['b58']] = test_GrB[['b58']].replace(dict.fromkeys(['Aug.', 'Aug','August','Augest', 'aug.', 'aug','august'], '8'))\n",
    "test_GrB[['b58']] = test_GrB[['b58']].replace(dict.fromkeys(['sep.', 'sept.', 'sep', 'Sep','sept','september', 'Sept.','Sep.'], '9'))\n",
    "test_GrB[['b58']] = test_GrB[['b58']].replace(dict.fromkeys(['oct','Oct.', 'October','oct.','october','Oct'], '10'))\n",
    "test_GrB[['b58']] = test_GrB[['b58']].replace(dict.fromkeys(['Nov.', 'nov', 'nov.','november','November', 'Nov'], '11'))\n",
    "test_GrB[['b58']] = test_GrB[['b58']].replace(dict.fromkeys(['december', 'dec.', 'dec','December','Dec.','Dec'], '12'))"
   ]
  },
  {
   "cell_type": "code",
   "execution_count": 56,
   "metadata": {},
   "outputs": [],
   "source": [
    "# most frequent value of Month is Jul\n",
    "values6 = {'b58': '7'}\n",
    "GrB_train = GrB_train.fillna(value=values6)\n",
    "test_GrB = test_GrB.fillna(value=values6)"
   ]
  },
  {
   "cell_type": "markdown",
   "metadata": {},
   "source": [
    "##### Convert zip code to string"
   ]
  },
  {
   "cell_type": "code",
   "execution_count": 57,
   "metadata": {},
   "outputs": [],
   "source": [
    "GrB_train['zip'] = GrB_train['zip'].astype(str).str.zfill(5)"
   ]
  },
  {
   "cell_type": "code",
   "execution_count": 58,
   "metadata": {},
   "outputs": [],
   "source": [
    "#with pd.option_context('display.max_rows', None, 'display.max_columns', None):\n",
    "#    print(GrB_train['zip'])"
   ]
  },
  {
   "cell_type": "code",
   "execution_count": 59,
   "metadata": {},
   "outputs": [],
   "source": [
    "test_GrB['zip'] = test_GrB['zip'].astype(str).str.zfill(5)"
   ]
  },
  {
   "cell_type": "code",
   "execution_count": 60,
   "metadata": {},
   "outputs": [
    {
     "data": {
      "text/plain": [
       "Index(['id', 'code', 'b00', 'b01', 'b02', 'b03', 'b04', 'b05', 'b06', 'b07',\n",
       "       'b08', 'b09', 'b10', 'b11', 'b12', 'b13', 'b14', 'b15', 'b16', 'b17',\n",
       "       'b18', 'b19', 'b20', 'b21', 'b22', 'b23', 'b24', 'b25', 'b26', 'b27',\n",
       "       'b28', 'b29', 'b30', 'b31', 'b32', 'b33', 'b34', 'b35', 'b36', 'b37',\n",
       "       'b38', 'b39', 'b40', 'b41', 'b42', 'b43', 'b44', 'b45', 'b46', 'b47',\n",
       "       'b48', 'b49', 'b50', 'b51', 'b52', 'b53', 'b54', 'b55', 'b56', 'b57',\n",
       "       'b58', 'zip'],\n",
       "      dtype='object')"
      ]
     },
     "execution_count": 60,
     "metadata": {},
     "output_type": "execute_result"
    }
   ],
   "source": [
    "GrB_train.columns"
   ]
  },
  {
   "cell_type": "code",
   "execution_count": 61,
   "metadata": {},
   "outputs": [],
   "source": [
    "# create list of column need to fill missing value\n",
    "cols1 = ['b00', 'b01', 'b02', 'b03', 'b04', 'b05', 'b06',\n",
    "       'b08', 'b09', 'b10', 'b11', 'b12', 'b15', 'b16', 'b17',\n",
    "       'b18', 'b19', 'b20', 'b22', 'b23', 'b24', 'b26', 'b27',\n",
    "       'b28', 'b29', 'b30', 'b31', 'b32', 'b33', 'b35', 'b36', 'b37',\n",
    "       'b38', 'b40', 'b41', 'b42', 'b43', 'b44', 'b45', 'b46', 'b47',\n",
    "       'b48', 'b49', 'b50', 'b51', 'b52', 'b53', 'b54', 'b55', 'b56', 'b57']\n",
    "\n",
    "# loop to fill each column \n",
    "for col in cols1:\n",
    "    GrB_train[col].fillna(GrB_train[col].mean(), inplace=True)\n",
    "    test_GrB[col].fillna(test_GrB[col].mean(), inplace=True)"
   ]
  },
  {
   "cell_type": "code",
   "execution_count": 62,
   "metadata": {},
   "outputs": [],
   "source": [
    "# create list of column need to convert\n",
    "colus = ['code', 'b21', 'b34','b58', 'zip']\n",
    "\n",
    "# loop to change each column to interger type\n",
    "for col in colus:\n",
    "    GrB_train[col] = GrB_train[col].astype('int',copy=False)\n",
    "    test_GrB[col] = test_GrB[col].astype('int',copy=False)"
   ]
  },
  {
   "cell_type": "code",
   "execution_count": 63,
   "metadata": {},
   "outputs": [
    {
     "data": {
      "text/plain": [
       "<matplotlib.axes._subplots.AxesSubplot at 0x7fddb6694c50>"
      ]
     },
     "execution_count": 63,
     "metadata": {},
     "output_type": "execute_result"
    },
    {
     "data": {
      "image/png": "[encoded data removed]",
      "text/plain": [
       "<Figure size 792x648 with 2 Axes>"
      ]
     },
     "metadata": {
      "needs_background": "light"
     },
     "output_type": "display_data"
    }
   ],
   "source": [
    "# Compute the correlation matrix\n",
    "corr = GrB_train.corr(method='pearson', min_periods=1)\n",
    "\n",
    "# Generate a mask for the upper triangle\n",
    "mask = np.triu(np.ones_like(corr, dtype=bool))\n",
    "\n",
    "# Set up the matplotlib figure\n",
    "f, ax = plt.subplots(figsize=(11, 9))\n",
    "\n",
    "# Generate a custom diverging colormap\n",
    "cmap = sns.diverging_palette(20, 220, as_cmap=True)\n",
    "\n",
    "# Draw the heatmap with the mask and correct aspect ratio\n",
    "sns.heatmap(corr, mask=mask, cmap=cmap, vmax=.3, center=0,\n",
    "            square=True, linewidths=.5, cbar_kws={\"shrink\": .5})"
   ]
  },
  {
   "cell_type": "code",
   "execution_count": 64,
   "metadata": {},
   "outputs": [
    {
     "data": {
      "text/plain": [
       "<matplotlib.axes._subplots.AxesSubplot at 0x7fddb812fb50>"
      ]
     },
     "execution_count": 64,
     "metadata": {},
     "output_type": "execute_result"
    },
    {
     "data": {
      "image/png": "[encoded data removed]",
      "text/plain": [
       "<Figure size 432x288 with 1 Axes>"
      ]
     },
     "metadata": {
      "needs_background": "light"
     },
     "output_type": "display_data"
    }
   ],
   "source": [
    "GrB_train.b12.hist()"
   ]
  },
  {
   "cell_type": "markdown",
   "metadata": {},
   "source": [
    "### 1.2 responseLearning y"
   ]
  },
  {
   "cell_type": "markdown",
   "metadata": {},
   "source": [
    "A classification response y is provided for learning set samples, with the positive class labeled 1 and the negative class labeled 0. "
   ]
  },
  {
   "cell_type": "code",
   "execution_count": 65,
   "metadata": {},
   "outputs": [],
   "source": [
    "target_train = pd.read_csv(\"responseLearning.csv\")\n",
    "#target_train.head()"
   ]
  },
  {
   "cell_type": "code",
   "execution_count": 66,
   "metadata": {},
   "outputs": [
    {
     "name": "stdout",
     "output_type": "stream",
     "text": [
      "<class 'pandas.core.frame.DataFrame'>\n",
      "RangeIndex: 12073 entries, 0 to 12072\n",
      "Data columns (total 2 columns):\n",
      "id    12073 non-null object\n",
      "y     12073 non-null int64\n",
      "dtypes: int64(1), object(1)\n",
      "memory usage: 188.8+ KB\n"
     ]
    }
   ],
   "source": [
    "target_train.info()"
   ]
  },
  {
   "cell_type": "code",
   "execution_count": 67,
   "metadata": {},
   "outputs": [
    {
     "data": {
      "image/png": "[encoded data removed]",
      "text/plain": [
       "<Figure size 432x288 with 1 Axes>"
      ]
     },
     "metadata": {
      "needs_background": "light"
     },
     "output_type": "display_data"
    }
   ],
   "source": [
    "count_classes = pd.value_counts(target_train['y'], sort = True)\n",
    "count_classes.plot(kind = 'bar', rot=0)\n",
    "rcParams['figure.figsize'] = 14, 8\n",
    "plt.title(\"target class distribution\")\n",
    "LABELS = [\"Negative\", \"Positive\"]\n",
    "plt.xticks(range(2), LABELS)\n",
    "plt.xlabel(\"Class\")\n",
    "plt.ylabel(\"Frequency\");"
   ]
  },
  {
   "cell_type": "code",
   "execution_count": 68,
   "metadata": {},
   "outputs": [],
   "source": [
    "Negative = target_train[target_train.y == 0]\n",
    "Positive = target_train[target_train.y == 1]"
   ]
  },
  {
   "cell_type": "code",
   "execution_count": 69,
   "metadata": {},
   "outputs": [
    {
     "data": {
      "text/plain": [
       "(10806, 2)"
      ]
     },
     "execution_count": 69,
     "metadata": {},
     "output_type": "execute_result"
    }
   ],
   "source": [
    "Negative.shape"
   ]
  },
  {
   "cell_type": "code",
   "execution_count": 70,
   "metadata": {},
   "outputs": [
    {
     "data": {
      "text/plain": [
       "(1267, 2)"
      ]
     },
     "execution_count": 70,
     "metadata": {},
     "output_type": "execute_result"
    }
   ],
   "source": [
    "Positive.shape"
   ]
  },
  {
   "cell_type": "markdown",
   "metadata": {},
   "source": [
    "The classification response y is imbalanced, positive class (1) is only equal to 10% of negative class (0). "
   ]
  },
  {
   "cell_type": "markdown",
   "metadata": {},
   "source": [
    "### 2. Combine datasets"
   ]
  },
  {
   "cell_type": "markdown",
   "metadata": {},
   "source": [
    "#### 2.1 Training data"
   ]
  },
  {
   "cell_type": "code",
   "execution_count": 71,
   "metadata": {},
   "outputs": [],
   "source": [
    "traindata = pd.merge(pd.merge(GrA_train,GrB_train,on='id'),target_train,on='id')\n",
    "#traindata.head()"
   ]
  },
  {
   "cell_type": "code",
   "execution_count": 72,
   "metadata": {},
   "outputs": [
    {
     "data": {
      "text/plain": [
       "(12073, 81)"
      ]
     },
     "execution_count": 72,
     "metadata": {},
     "output_type": "execute_result"
    }
   ],
   "source": [
    "traindata.shape"
   ]
  },
  {
   "cell_type": "code",
   "execution_count": 73,
   "metadata": {},
   "outputs": [],
   "source": [
    "#with pd.option_context('display.max_rows', None, 'display.max_columns', None):\n",
    "#    print(check_missing_df(traindata))"
   ]
  },
  {
   "cell_type": "markdown",
   "metadata": {},
   "source": [
    "EDA on full training dataset"
   ]
  },
  {
   "cell_type": "code",
   "execution_count": 74,
   "metadata": {},
   "outputs": [
    {
     "data": {
      "text/plain": [
       "<matplotlib.axes._subplots.AxesSubplot at 0x7fddb8708810>"
      ]
     },
     "execution_count": 74,
     "metadata": {},
     "output_type": "execute_result"
    },
    {
     "data": {
      "image/png": "[encoded data removed]",
      "text/plain": [
       "<Figure size 792x648 with 2 Axes>"
      ]
     },
     "metadata": {
      "needs_background": "light"
     },
     "output_type": "display_data"
    }
   ],
   "source": [
    "# Compute the correlation matrix\n",
    "corr = traindata.iloc[:, 1:80].corr(method='pearson', min_periods=1)\n",
    "\n",
    "# Generate a mask for the upper triangle\n",
    "mask = np.triu(np.ones_like(corr, dtype=bool))\n",
    "\n",
    "# Set up the matplotlib figure\n",
    "f, ax = plt.subplots(figsize=(11, 9))\n",
    "\n",
    "# Generate a custom diverging colormap\n",
    "cmap = sns.diverging_palette(20, 220, as_cmap=True)\n",
    "\n",
    "# Draw the heatmap with the mask and correct aspect ratio\n",
    "sns.heatmap(corr, mask=mask, cmap=cmap, vmax=.3, center=0,\n",
    "            square=True, linewidths=.5, cbar_kws={\"shrink\": .5})"
   ]
  },
  {
   "cell_type": "code",
   "execution_count": 75,
   "metadata": {},
   "outputs": [],
   "source": [
    "#traindata.to_csv('Traindata_NW.csv', encoding='utf-8', index=False)"
   ]
  },
  {
   "cell_type": "markdown",
   "metadata": {},
   "source": [
    "### 2.2 Prediction dataset"
   ]
  },
  {
   "cell_type": "code",
   "execution_count": 76,
   "metadata": {},
   "outputs": [],
   "source": [
    "Pred_data = pd.merge(test_GrA,test_GrB,on='id')\n",
    "#Pred_data.head()"
   ]
  },
  {
   "cell_type": "code",
   "execution_count": 77,
   "metadata": {},
   "outputs": [
    {
     "data": {
      "text/plain": [
       "(5366, 80)"
      ]
     },
     "execution_count": 77,
     "metadata": {},
     "output_type": "execute_result"
    }
   ],
   "source": [
    "Pred_data.shape"
   ]
  },
  {
   "cell_type": "code",
   "execution_count": 78,
   "metadata": {},
   "outputs": [],
   "source": [
    "#Pred_data.to_csv('Pred_data_NW.csv', encoding='utf-8', index=False)"
   ]
  },
  {
   "cell_type": "markdown",
   "metadata": {},
   "source": [
    "# MODELING\n",
    "\n",
    "   This dataset contains one prediction variable and 79 predictor variables that is large number of predictors. We can run PCA to weight the predictors.\n",
    "   \n",
    "   The prediction y is imbalanced variable so we need to find the way to make it be balanced. If not, the model will predict value 0 most of the time for y.\n",
    "   This case is fit for anomaly dectection. My solution contains various ways:\n",
    "   1. Density-based anomaly detection is based on the k-nearest neighbors algorithm.\n",
    "      Clustering-based anomaly detection with K-means or DBSCAN\n",
    "   2. Decision Trees, Random Forests and Logistic Regression. A support vector machine is another effective technique for detecting anomalies. Because our dataset is imbalanced (1:10), we should oversampling class 1 with Synthetic Minority Oversampling Technique (SMOTE) before we apply these techniques above.\n",
    "   3. The efficient neural network to detect anomalies is using autoencoders. In order to detect anomalies autoencoder needs to be trained in unsupervised (or semi-supervised) fashion on data free of anomalies. The trained model is then used to predict normal data mixed with anomalies. Cases which the model fails to predict are marked as anomalies."
   ]
  },
  {
   "cell_type": "markdown",
   "metadata": {},
   "source": [
    "### 1. BASIC MODELING WITH DATASET"
   ]
  },
  {
   "cell_type": "code",
   "execution_count": 79,
   "metadata": {},
   "outputs": [
    {
     "name": "stdout",
     "output_type": "stream",
     "text": [
      "Original dataset shape Counter({0: 10806, 1: 1267})\n"
     ]
    }
   ],
   "source": [
    "# Create X and y from dataset\n",
    "from collections import Counter\n",
    "from sklearn.model_selection import train_test_split\n",
    "y = traindata.y\n",
    "X = traindata.iloc[:, 1:80]\n",
    "print('Original dataset shape {}'.format(Counter(y)))"
   ]
  },
  {
   "cell_type": "code",
   "execution_count": 80,
   "metadata": {},
   "outputs": [],
   "source": [
    "# Run a groupby command on our labels and obtain the mean for each feature\n",
    "#traindata.groupby('y').mean()"
   ]
  },
  {
   "cell_type": "markdown",
   "metadata": {},
   "source": [
    "### 1.1 Classification with Logistic Regression"
   ]
  },
  {
   "cell_type": "code",
   "execution_count": 81,
   "metadata": {},
   "outputs": [
    {
     "name": "stdout",
     "output_type": "stream",
     "text": [
      "Classification report:\n",
      "               precision    recall  f1-score   support\n",
      "\n",
      "           0       0.90      0.99      0.95      3230\n",
      "           1       0.64      0.13      0.22       392\n",
      "\n",
      "    accuracy                           0.90      3622\n",
      "   macro avg       0.77      0.56      0.58      3622\n",
      "weighted avg       0.87      0.90      0.87      3622\n",
      "\n",
      "Confusion matrix:\n",
      " [[3201   29]\n",
      " [ 341   51]]\n"
     ]
    },
    {
     "name": "stderr",
     "output_type": "stream",
     "text": [
      "/opt/anaconda3/lib/python3.7/site-packages/sklearn/linear_model/_logistic.py:764: ConvergenceWarning: lbfgs failed to converge (status=1):\n",
      "STOP: TOTAL NO. of ITERATIONS REACHED LIMIT.\n",
      "\n",
      "Increase the number of iterations (max_iter) or scale the data as shown in:\n",
      "    https://scikit-learn.org/stable/modules/preprocessing.html\n",
      "Please also refer to the documentation for alternative solver options:\n",
      "    https://scikit-learn.org/stable/modules/linear_model.html#logistic-regression\n",
      "  extra_warning_msg=_LOGISTIC_SOLVER_CONVERGENCE_MSG)\n"
     ]
    }
   ],
   "source": [
    "from sklearn.linear_model import LogisticRegression\n",
    "from sklearn.model_selection import train_test_split\n",
    "from sklearn import metrics\n",
    "\n",
    "# Create the training and testing sets\n",
    "X_train, X_test, y_train, y_test = train_test_split(X, y, test_size=0.3, random_state=0)\n",
    "\n",
    "# Fit a logistic regression model to our data\n",
    "model = LogisticRegression()\n",
    "model.fit(X_train, y_train)\n",
    "\n",
    "# Obtain model predictions\n",
    "predicted = model.predict(X_test)\n",
    "\n",
    "# Print the classifcation report and confusion matrix\n",
    "print('Classification report:\\n', metrics.classification_report(y_test, predicted))\n",
    "conf_mat = metrics.confusion_matrix(y_true=y_test, y_pred=predicted)\n",
    "print('Confusion matrix:\\n', conf_mat)"
   ]
  },
  {
   "cell_type": "markdown",
   "metadata": {},
   "source": [
    "### 1.2 Classification with Random Forest Classifier"
   ]
  },
  {
   "cell_type": "code",
   "execution_count": 82,
   "metadata": {},
   "outputs": [
    {
     "name": "stdout",
     "output_type": "stream",
     "text": [
      "Classification report:\n",
      "               precision    recall  f1-score   support\n",
      "\n",
      "           0       0.89      1.00      0.94      3230\n",
      "           1       1.00      0.01      0.02       392\n",
      "\n",
      "    accuracy                           0.89      3622\n",
      "   macro avg       0.95      0.50      0.48      3622\n",
      "weighted avg       0.90      0.89      0.84      3622\n",
      "\n",
      "Confusion matrix:\n",
      " [[3230    0]\n",
      " [ 389    3]]\n"
     ]
    }
   ],
   "source": [
    "from sklearn.ensemble import RandomForestClassifier\n",
    "model = RandomForestClassifier(random_state=42)\n",
    "model.fit(X_train, y_train)\n",
    "\n",
    "# Obtain model predictions\n",
    "predicted = model.predict(X_test)\n",
    "\n",
    "# Print the classifcation report and confusion matrix\n",
    "print('Classification report:\\n', metrics.classification_report(y_test, predicted))\n",
    "conf_mat = metrics.confusion_matrix(y_true=y_test, y_pred=predicted)\n",
    "print('Confusion matrix:\\n', conf_mat)"
   ]
  },
  {
   "cell_type": "markdown",
   "metadata": {},
   "source": [
    "### 1.3 Classification with Support Vector Machines Classification"
   ]
  },
  {
   "cell_type": "code",
   "execution_count": 83,
   "metadata": {},
   "outputs": [
    {
     "name": "stdout",
     "output_type": "stream",
     "text": [
      "Classification report:\n",
      "               precision    recall  f1-score   support\n",
      "\n",
      "           0       0.89      1.00      0.94      3230\n",
      "           1       0.00      0.00      0.00       392\n",
      "\n",
      "    accuracy                           0.89      3622\n",
      "   macro avg       0.45      0.50      0.47      3622\n",
      "weighted avg       0.80      0.89      0.84      3622\n",
      "\n",
      "Confusion matrix:\n",
      " [[3230    0]\n",
      " [ 392    0]]\n"
     ]
    },
    {
     "name": "stderr",
     "output_type": "stream",
     "text": [
      "/opt/anaconda3/lib/python3.7/site-packages/sklearn/metrics/_classification.py:1221: UndefinedMetricWarning: Precision and F-score are ill-defined and being set to 0.0 in labels with no predicted samples. Use `zero_division` parameter to control this behavior.\n",
      "  _warn_prf(average, modifier, msg_start, len(result))\n"
     ]
    }
   ],
   "source": [
    "from sklearn import svm\n",
    "model = svm.SVC(decision_function_shape='ovo')\n",
    "model.fit(X_train, y_train)\n",
    "\n",
    "# Obtain model predictions\n",
    "predicted = model.predict(X_test)\n",
    "\n",
    "# Print the classifcation report and confusion matrix\n",
    "print('Classification report:\\n', metrics.classification_report(y_test, predicted))\n",
    "conf_mat = metrics.confusion_matrix(y_true=y_test, y_pred=predicted)\n",
    "print('Confusion matrix:\\n', conf_mat)"
   ]
  },
  {
   "cell_type": "code",
   "execution_count": 84,
   "metadata": {},
   "outputs": [
    {
     "name": "stdout",
     "output_type": "stream",
     "text": [
      "Classification report:\n",
      "               precision    recall  f1-score   support\n",
      "\n",
      "           0       0.90      1.00      0.95      3230\n",
      "           1       0.76      0.09      0.16       392\n",
      "\n",
      "    accuracy                           0.90      3622\n",
      "   macro avg       0.83      0.54      0.55      3622\n",
      "weighted avg       0.88      0.90      0.86      3622\n",
      "\n",
      "Confusion matrix:\n",
      " [[3219   11]\n",
      " [ 358   34]]\n"
     ]
    },
    {
     "name": "stderr",
     "output_type": "stream",
     "text": [
      "/opt/anaconda3/lib/python3.7/site-packages/sklearn/svm/_base.py:977: ConvergenceWarning: Liblinear failed to converge, increase the number of iterations.\n",
      "  \"the number of iterations.\", ConvergenceWarning)\n"
     ]
    }
   ],
   "source": [
    "# Using Linear as kernel:\n",
    "from sklearn import svm\n",
    "lin_clf = svm.LinearSVC()\n",
    "lin_clf.fit(X_train, y_train)\n",
    "\n",
    "# Obtain model predictions\n",
    "predicted = lin_clf.predict(X_test)\n",
    "\n",
    "# Print the classifcation report and confusion matrix\n",
    "print('Classification report:\\n', metrics.classification_report(y_test, predicted))\n",
    "conf_mat = metrics.confusion_matrix(y_true=y_test, y_pred=predicted)\n",
    "print('Confusion matrix:\\n', conf_mat)"
   ]
  },
  {
   "cell_type": "markdown",
   "metadata": {},
   "source": [
    "With all classification models we use above, the F1-score accuracy is 0.89 - 0.9 but the recall of the minority class in very less. It proves that the model is more biased towards majority class. So, it proves that this is not the best model.\n",
    "Now, we will apply different imbalanced data handling techniques and see their accuracy and recall results."
   ]
  },
  {
   "cell_type": "markdown",
   "metadata": {},
   "source": [
    "## 2. PCA "
   ]
  },
  {
   "cell_type": "code",
   "execution_count": 86,
   "metadata": {},
   "outputs": [],
   "source": [
    "RatesData = traindata.iloc[:, 1:79]"
   ]
  },
  {
   "cell_type": "code",
   "execution_count": 87,
   "metadata": {},
   "outputs": [
    {
     "data": {
      "text/plain": [
       "PCA(svd_solver='full')"
      ]
     },
     "execution_count": 87,
     "metadata": {},
     "output_type": "execute_result"
    }
   ],
   "source": [
    "from sklearn.decomposition import PCA\n",
    "from sklearn import linear_model\n",
    "\n",
    "pca = PCA(svd_solver='full')\n",
    "pca.fit(RatesData)\n",
    "#print('Explained variance by factors:\\n', pca.explained_variance_.round())"
   ]
  },
  {
   "cell_type": "code",
   "execution_count": 88,
   "metadata": {},
   "outputs": [],
   "source": [
    "pca_factors = pd.DataFrame(pca.transform(RatesData), \n",
    "                           columns=['pca.f{}'.format(i+1) for i in range(pca.n_components_)], \n",
    "                           index=RatesData.index)\n",
    "#pca_factors.head()"
   ]
  },
  {
   "cell_type": "code",
   "execution_count": 89,
   "metadata": {},
   "outputs": [
    {
     "data": {
      "text/plain": [
       "<matplotlib.axes._subplots.AxesSubplot at 0x7fddba4fcc90>"
      ]
     },
     "execution_count": 89,
     "metadata": {},
     "output_type": "execute_result"
    },
    {
     "data": {
      "image/png": "[encoded data removed]",
      "text/plain": [
       "<Figure size 1008x576 with 1 Axes>"
      ]
     },
     "metadata": {
      "needs_background": "light"
     },
     "output_type": "display_data"
    }
   ],
   "source": [
    "pca_factors[['pca.f1', 'pca.f2']].plot()"
   ]
  },
  {
   "cell_type": "markdown",
   "metadata": {},
   "source": [
    "I explore more PCA technique in R Markdown file."
   ]
  },
  {
   "cell_type": "markdown",
   "metadata": {},
   "source": [
    "## 3. Oversampling and undersampling methods "
   ]
  },
  {
   "cell_type": "markdown",
   "metadata": {},
   "source": [
    "## 3.1 Oversampling - Synthetic Minority Oversampling Technique (SMOTE)"
   ]
  },
  {
   "cell_type": "code",
   "execution_count": 90,
   "metadata": {},
   "outputs": [
    {
     "name": "stdout",
     "output_type": "stream",
     "text": [
      "Requirement already satisfied: imbalanced-learn in /opt/anaconda3/lib/python3.7/site-packages (0.7.0)\r\n",
      "Requirement already satisfied: scikit-learn>=0.23 in /opt/anaconda3/lib/python3.7/site-packages (from imbalanced-learn) (0.23.2)\r\n",
      "Requirement already satisfied: numpy>=1.13.3 in /opt/anaconda3/lib/python3.7/site-packages (from imbalanced-learn) (1.17.2)\r\n",
      "Requirement already satisfied: joblib>=0.11 in /opt/anaconda3/lib/python3.7/site-packages (from imbalanced-learn) (0.13.2)\r\n",
      "Requirement already satisfied: scipy>=0.19.1 in /opt/anaconda3/lib/python3.7/site-packages (from imbalanced-learn) (1.4.1)\r\n",
      "Requirement already satisfied: threadpoolctl>=2.0.0 in /opt/anaconda3/lib/python3.7/site-packages (from scikit-learn>=0.23->imbalanced-learn) (2.1.0)\r\n"
     ]
    }
   ],
   "source": [
    "!pip install imbalanced-learn"
   ]
  },
  {
   "cell_type": "code",
   "execution_count": 91,
   "metadata": {},
   "outputs": [],
   "source": [
    "import imblearn\n",
    "from numpy import mean\n",
    "from sklearn.datasets import make_classification\n",
    "from sklearn.model_selection import cross_val_score\n",
    "from sklearn.model_selection import RepeatedStratifiedKFold\n",
    "from sklearn.ensemble import RandomForestClassifier\n",
    "from sklearn.tree import DecisionTreeClassifier"
   ]
  },
  {
   "cell_type": "code",
   "execution_count": 92,
   "metadata": {},
   "outputs": [
    {
     "name": "stdout",
     "output_type": "stream",
     "text": [
      "Number transactions X_train dataset:  (8451, 79)\n",
      "Number transactions y_train dataset:  (8451,)\n",
      "Number transactions X_test dataset:  (3622, 79)\n",
      "Number transactions y_test dataset:  (3622,)\n"
     ]
    }
   ],
   "source": [
    "from sklearn.model_selection import train_test_split \n",
    "  \n",
    "# split into 70:30 ration \n",
    "X_train, X_test, y_train, y_test = train_test_split(X, y, test_size = 0.3, random_state = 0) \n",
    "  \n",
    "# describes info about train and test set \n",
    "print(\"Number transactions X_train dataset: \", X_train.shape) \n",
    "print(\"Number transactions y_train dataset: \", y_train.shape) \n",
    "print(\"Number transactions X_test dataset: \", X_test.shape) \n",
    "print(\"Number transactions y_test dataset: \", y_test.shape) "
   ]
  },
  {
   "cell_type": "code",
   "execution_count": 93,
   "metadata": {},
   "outputs": [
    {
     "name": "stdout",
     "output_type": "stream",
     "text": [
      "Before OverSampling, counts of label '1': 875\n",
      "Before OverSampling, counts of label '0': 7576 \n",
      "\n",
      "After OverSampling, the shape of train_X: (15152, 79)\n",
      "After OverSampling, the shape of train_y: (15152,) \n",
      "\n",
      "After OverSampling, counts of label '1': 7576\n",
      "After OverSampling, counts of label '0': 7576\n"
     ]
    }
   ],
   "source": [
    "print(\"Before OverSampling, counts of label '1': {}\".format(sum(y_train == 1))) \n",
    "print(\"Before OverSampling, counts of label '0': {} \\n\".format(sum(y_train == 0))) \n",
    "  \n",
    "# import SMOTE module from imblearn library \n",
    "# pip install imblearn (if you don't have imblearn in your system) \n",
    "from imblearn.over_sampling import SMOTE \n",
    "sm = SMOTE(random_state = 42) \n",
    "X_train_res, y_train_res = sm.fit_sample(X_train, y_train.ravel()) \n",
    "  \n",
    "print('After OverSampling, the shape of train_X: {}'.format(X_train_res.shape)) \n",
    "print('After OverSampling, the shape of train_y: {} \\n'.format(y_train_res.shape)) \n",
    "  \n",
    "print(\"After OverSampling, counts of label '1': {}\".format(sum(y_train_res == 1))) \n",
    "print(\"After OverSampling, counts of label '0': {}\".format(sum(y_train_res == 0))) "
   ]
  },
  {
   "cell_type": "code",
   "execution_count": 94,
   "metadata": {},
   "outputs": [
    {
     "name": "stdout",
     "output_type": "stream",
     "text": [
      "              precision    recall  f1-score   support\n",
      "\n",
      "           0       0.95      0.72      0.82      3230\n",
      "           1       0.24      0.70      0.35       392\n",
      "\n",
      "    accuracy                           0.72      3622\n",
      "   macro avg       0.59      0.71      0.59      3622\n",
      "weighted avg       0.88      0.72      0.77      3622\n",
      "\n"
     ]
    },
    {
     "name": "stderr",
     "output_type": "stream",
     "text": [
      "/opt/anaconda3/lib/python3.7/site-packages/sklearn/linear_model/_logistic.py:764: ConvergenceWarning: lbfgs failed to converge (status=1):\n",
      "STOP: TOTAL NO. of ITERATIONS REACHED LIMIT.\n",
      "\n",
      "Increase the number of iterations (max_iter) or scale the data as shown in:\n",
      "    https://scikit-learn.org/stable/modules/preprocessing.html\n",
      "Please also refer to the documentation for alternative solver options:\n",
      "    https://scikit-learn.org/stable/modules/linear_model.html#logistic-regression\n",
      "  extra_warning_msg=_LOGISTIC_SOLVER_CONVERGENCE_MSG)\n"
     ]
    }
   ],
   "source": [
    "# Logistic Regression model\n",
    "from sklearn.metrics import confusion_matrix, classification_report \n",
    "lr1 = LogisticRegression() \n",
    "lr1.fit(X_train_res, y_train_res.ravel()) \n",
    "predictions = lr1.predict(X_test) \n",
    "  \n",
    "# print classification report \n",
    "print(classification_report(y_test, predictions))"
   ]
  },
  {
   "cell_type": "code",
   "execution_count": 95,
   "metadata": {},
   "outputs": [
    {
     "name": "stdout",
     "output_type": "stream",
     "text": [
      "              precision    recall  f1-score   support\n",
      "\n",
      "           0       0.92      0.98      0.95      3230\n",
      "           1       0.61      0.26      0.37       392\n",
      "\n",
      "    accuracy                           0.90      3622\n",
      "   macro avg       0.76      0.62      0.66      3622\n",
      "weighted avg       0.88      0.90      0.88      3622\n",
      "\n"
     ]
    }
   ],
   "source": [
    "# Random Forest model\n",
    "from sklearn.ensemble import RandomForestClassifier\n",
    "model = RandomForestClassifier(random_state=42)\n",
    "model.fit(X_train_res, y_train_res.ravel()) \n",
    "predicted = model.predict(X_test)\n",
    "\n",
    "# print classification report \n",
    "print(classification_report(y_test, predicted))"
   ]
  },
  {
   "cell_type": "code",
   "execution_count": 96,
   "metadata": {},
   "outputs": [
    {
     "name": "stdout",
     "output_type": "stream",
     "text": [
      "Requirement already satisfied: xgboost in /opt/anaconda3/lib/python3.7/site-packages (1.2.0)\r\n",
      "Requirement already satisfied: numpy in /opt/anaconda3/lib/python3.7/site-packages (from xgboost) (1.17.2)\r\n",
      "Requirement already satisfied: scipy in /opt/anaconda3/lib/python3.7/site-packages (from xgboost) (1.4.1)\r\n"
     ]
    }
   ],
   "source": [
    "!pip install xgboost"
   ]
  },
  {
   "cell_type": "code",
   "execution_count": 97,
   "metadata": {},
   "outputs": [
    {
     "name": "stdout",
     "output_type": "stream",
     "text": [
      "              precision    recall  f1-score   support\n",
      "\n",
      "           0       0.95      0.98      0.97      3230\n",
      "           1       0.79      0.59      0.67       392\n",
      "\n",
      "    accuracy                           0.94      3622\n",
      "   macro avg       0.87      0.79      0.82      3622\n",
      "weighted avg       0.93      0.94      0.93      3622\n",
      "\n"
     ]
    }
   ],
   "source": [
    "# XGBoost Model\n",
    "from xgboost import XGBClassifier\n",
    "model = XGBClassifier()\n",
    "model.fit(X_train_res, y_train_res.ravel()) \n",
    "predicted = model.predict(X_test)\n",
    "\n",
    "# print classification report \n",
    "print(classification_report(y_test, predicted))"
   ]
  },
  {
   "cell_type": "code",
   "execution_count": 98,
   "metadata": {},
   "outputs": [
    {
     "name": "stdout",
     "output_type": "stream",
     "text": [
      "              precision    recall  f1-score   support\n",
      "\n",
      "           0       0.92      0.83      0.87      3230\n",
      "           1       0.23      0.43      0.30       392\n",
      "\n",
      "    accuracy                           0.79      3622\n",
      "   macro avg       0.58      0.63      0.59      3622\n",
      "weighted avg       0.85      0.79      0.81      3622\n",
      "\n"
     ]
    }
   ],
   "source": [
    "# Gaussian Naive Bayes (GaussianNB)\n",
    "from sklearn.naive_bayes import GaussianNB\n",
    "model = GaussianNB()\n",
    "model.fit(X_train_res, y_train_res.ravel()) \n",
    "predicted = model.predict(X_test)\n",
    "\n",
    "# print classification report \n",
    "print(classification_report(y_test, predicted))"
   ]
  },
  {
   "cell_type": "code",
   "execution_count": 99,
   "metadata": {},
   "outputs": [
    {
     "name": "stdout",
     "output_type": "stream",
     "text": [
      "89.50550815870123\n"
     ]
    }
   ],
   "source": [
    "# Count the total number of observations from the length of y\n",
    "total_obs = len(y)\n",
    "\n",
    "# Count the total number of non-fraudulent observations \n",
    "non_fraud = [i for i in y if i == 0]\n",
    "count_non_fraud = non_fraud.count(0)\n",
    "\n",
    "# Calculate the percentage of non fraud observations in the dataset\n",
    "percentage = (float(count_non_fraud)/float(total_obs)) * 100\n",
    "\n",
    "# Print the percentage\n",
    "print(percentage)"
   ]
  },
  {
   "cell_type": "markdown",
   "metadata": {},
   "source": [
    "### 3.1* PCA and XGBoost with SMOTE"
   ]
  },
  {
   "cell_type": "code",
   "execution_count": 100,
   "metadata": {},
   "outputs": [
    {
     "name": "stdout",
     "output_type": "stream",
     "text": [
      "Original dataset shape Counter({0: 10806, 1: 1267})\n"
     ]
    }
   ],
   "source": [
    "# Create X and y from dataset\n",
    "from collections import Counter\n",
    "from sklearn.model_selection import train_test_split\n",
    "y = traindata.y\n",
    "X = traindata.iloc[:, 1:80]\n",
    "print('Original dataset shape {}'.format(Counter(y)))"
   ]
  },
  {
   "cell_type": "code",
   "execution_count": 101,
   "metadata": {},
   "outputs": [
    {
     "data": {
      "text/plain": [
       "(12073, 79)"
      ]
     },
     "execution_count": 101,
     "metadata": {},
     "output_type": "execute_result"
    }
   ],
   "source": [
    "from sklearn.decomposition import PCA\n",
    "\n",
    "# initiate PCA\n",
    "pca = PCA()\n",
    "\n",
    "# transform / fit\n",
    "\n",
    "X_transformed = pca.fit_transform(X)\n",
    "X_transformed.shape"
   ]
  },
  {
   "cell_type": "code",
   "execution_count": 102,
   "metadata": {},
   "outputs": [
    {
     "name": "stdout",
     "output_type": "stream",
     "text": [
      "Number transactions X_train dataset:  (8451, 79)\n",
      "Number transactions y_train dataset:  (8451,)\n",
      "Number transactions X_test dataset:  (3622, 79)\n",
      "Number transactions y_test dataset:  (3622,)\n"
     ]
    }
   ],
   "source": [
    "# split into 70:30 ration \n",
    "X_train, X_test, y_train, y_test = train_test_split(X_transformed, y, test_size = 0.3, random_state = 0) \n",
    "  \n",
    "# describes info about train and test set \n",
    "print(\"Number transactions X_train dataset: \", X_train.shape) \n",
    "print(\"Number transactions y_train dataset: \", y_train.shape) \n",
    "print(\"Number transactions X_test dataset: \", X_test.shape) \n",
    "print(\"Number transactions y_test dataset: \", y_test.shape) "
   ]
  },
  {
   "cell_type": "code",
   "execution_count": 103,
   "metadata": {},
   "outputs": [
    {
     "name": "stdout",
     "output_type": "stream",
     "text": [
      "Before OverSampling, counts of label '1': 875\n",
      "Before OverSampling, counts of label '0': 7576 \n",
      "\n",
      "After OverSampling, the shape of train_X: (15152, 79)\n",
      "After OverSampling, the shape of train_y: (15152,) \n",
      "\n",
      "After OverSampling, counts of label '1': 7576\n",
      "After OverSampling, counts of label '0': 7576\n"
     ]
    }
   ],
   "source": [
    "print(\"Before OverSampling, counts of label '1': {}\".format(sum(y_train == 1))) \n",
    "print(\"Before OverSampling, counts of label '0': {} \\n\".format(sum(y_train == 0))) \n",
    "  \n",
    "# import SMOTE module from imblearn library \n",
    "# pip install imblearn (if you don't have imblearn in your system) \n",
    "from imblearn.over_sampling import SMOTE \n",
    "sm = SMOTE(random_state = 42) \n",
    "X_train_res, y_train_res = sm.fit_sample(X_train, y_train.ravel()) \n",
    "  \n",
    "print('After OverSampling, the shape of train_X: {}'.format(X_train_res.shape)) \n",
    "print('After OverSampling, the shape of train_y: {} \\n'.format(y_train_res.shape)) \n",
    "  \n",
    "print(\"After OverSampling, counts of label '1': {}\".format(sum(y_train_res == 1))) \n",
    "print(\"After OverSampling, counts of label '0': {}\".format(sum(y_train_res == 0))) "
   ]
  },
  {
   "cell_type": "code",
   "execution_count": 104,
   "metadata": {},
   "outputs": [
    {
     "name": "stdout",
     "output_type": "stream",
     "text": [
      "              precision    recall  f1-score   support\n",
      "\n",
      "           0       0.97      0.99      0.98      3230\n",
      "           1       0.85      0.72      0.78       392\n",
      "\n",
      "    accuracy                           0.96      3622\n",
      "   macro avg       0.91      0.85      0.88      3622\n",
      "weighted avg       0.95      0.96      0.95      3622\n",
      "\n"
     ]
    }
   ],
   "source": [
    "# XGBoost Model\n",
    "from xgboost import XGBClassifier\n",
    "model = XGBClassifier()\n",
    "model.fit(X_train_res, y_train_res.ravel()) \n",
    "predicted = model.predict(X_test)\n",
    "\n",
    "# print classification report \n",
    "print(classification_report(y_test, predicted))"
   ]
  },
  {
   "cell_type": "markdown",
   "metadata": {},
   "source": [
    "The best model is doing PCA to reduction dimentionality before oversampling with SMOTE then applying XGBoostClassifier. "
   ]
  },
  {
   "cell_type": "markdown",
   "metadata": {},
   "source": [
    "## 3.2 Undersampling with NearMiss Algorithm"
   ]
  },
  {
   "cell_type": "code",
   "execution_count": 105,
   "metadata": {},
   "outputs": [
    {
     "name": "stdout",
     "output_type": "stream",
     "text": [
      "Before Undersampling, counts of label '1': 875\n",
      "Before Undersampling, counts of label '0': 7576 \n",
      "\n",
      "After Undersampling, the shape of train_X: (1750, 79)\n",
      "After Undersampling, the shape of train_y: (1750,) \n",
      "\n",
      "After Undersampling, counts of label '1': 875\n",
      "After Undersampling, counts of label '0': 875\n"
     ]
    }
   ],
   "source": [
    "print(\"Before Undersampling, counts of label '1': {}\".format(sum(y_train == 1))) \n",
    "print(\"Before Undersampling, counts of label '0': {} \\n\".format(sum(y_train == 0))) \n",
    "  \n",
    "# apply near miss \n",
    "from imblearn.under_sampling import NearMiss \n",
    "nr = NearMiss() \n",
    "  \n",
    "X_train_miss, y_train_miss = nr.fit_sample(X_train, y_train.ravel()) \n",
    "  \n",
    "print('After Undersampling, the shape of train_X: {}'.format(X_train_miss.shape)) \n",
    "print('After Undersampling, the shape of train_y: {} \\n'.format(y_train_miss.shape)) \n",
    "  \n",
    "print(\"After Undersampling, counts of label '1': {}\".format(sum(y_train_miss == 1))) \n",
    "print(\"After Undersampling, counts of label '0': {}\".format(sum(y_train_miss == 0))) "
   ]
  },
  {
   "cell_type": "code",
   "execution_count": 106,
   "metadata": {},
   "outputs": [
    {
     "name": "stdout",
     "output_type": "stream",
     "text": [
      "              precision    recall  f1-score   support\n",
      "\n",
      "           0       0.97      0.55      0.70      3230\n",
      "           1       0.19      0.85      0.30       392\n",
      "\n",
      "    accuracy                           0.58      3622\n",
      "   macro avg       0.58      0.70      0.50      3622\n",
      "weighted avg       0.88      0.58      0.66      3622\n",
      "\n"
     ]
    },
    {
     "name": "stderr",
     "output_type": "stream",
     "text": [
      "/opt/anaconda3/lib/python3.7/site-packages/sklearn/linear_model/_logistic.py:764: ConvergenceWarning: lbfgs failed to converge (status=1):\n",
      "STOP: TOTAL NO. of ITERATIONS REACHED LIMIT.\n",
      "\n",
      "Increase the number of iterations (max_iter) or scale the data as shown in:\n",
      "    https://scikit-learn.org/stable/modules/preprocessing.html\n",
      "Please also refer to the documentation for alternative solver options:\n",
      "    https://scikit-learn.org/stable/modules/linear_model.html#logistic-regression\n",
      "  extra_warning_msg=_LOGISTIC_SOLVER_CONVERGENCE_MSG)\n"
     ]
    }
   ],
   "source": [
    "# train the model Logistic Regression on train set \n",
    "lr2 = LogisticRegression() \n",
    "lr2.fit(X_train_miss, y_train_miss.ravel()) \n",
    "predictions = lr2.predict(X_test) \n",
    "  \n",
    "# print classification report \n",
    "print(classification_report(y_test, predictions)) "
   ]
  },
  {
   "cell_type": "code",
   "execution_count": 107,
   "metadata": {},
   "outputs": [
    {
     "name": "stdout",
     "output_type": "stream",
     "text": [
      "              precision    recall  f1-score   support\n",
      "\n",
      "           0       0.98      0.70      0.82      3230\n",
      "           1       0.27      0.90      0.41       392\n",
      "\n",
      "    accuracy                           0.72      3622\n",
      "   macro avg       0.63      0.80      0.62      3622\n",
      "weighted avg       0.91      0.72      0.77      3622\n",
      "\n"
     ]
    }
   ],
   "source": [
    "# train the model Random Forest on train set \n",
    "rf2 = RandomForestClassifier(random_state=42) \n",
    "rf2.fit(X_train_miss, y_train_miss.ravel()) \n",
    "predictions = rf2.predict(X_test) \n",
    "  \n",
    "# print classification report \n",
    "print(classification_report(y_test, predictions)) "
   ]
  },
  {
   "cell_type": "markdown",
   "metadata": {},
   "source": [
    "With both methods to handle imbalanced dataset, the accuracy rate is same (oversampling) or decrease (undersampling) but the recall of class \"1\" is increase. The best model for this technique is PCA and XGBoostClassifier with SMOTE that accuracy rate is 0.96"
   ]
  },
  {
   "cell_type": "markdown",
   "metadata": {},
   "source": [
    "## 3.3 Predict y with PCA, XGBoost and SMOTE "
   ]
  },
  {
   "cell_type": "code",
   "execution_count": 108,
   "metadata": {},
   "outputs": [
    {
     "name": "stderr",
     "output_type": "stream",
     "text": [
      "/opt/anaconda3/lib/python3.7/site-packages/ipykernel_launcher.py:2: FutureWarning: Sorting because non-concatenation axis is not aligned. A future version\n",
      "of pandas will change to not sort by default.\n",
      "\n",
      "To accept the future behavior, pass 'sort=False'.\n",
      "\n",
      "To retain the current behavior and silence the warning, pass 'sort=True'.\n",
      "\n",
      "  \n"
     ]
    }
   ],
   "source": [
    "frames = [traindata, Pred_data]\n",
    "dataframe = pd.concat(frames)"
   ]
  },
  {
   "cell_type": "code",
   "execution_count": 112,
   "metadata": {},
   "outputs": [
    {
     "data": {
      "text/plain": [
       "(17439, 81)"
      ]
     },
     "execution_count": 112,
     "metadata": {},
     "output_type": "execute_result"
    }
   ],
   "source": [
    "dataframe.shape"
   ]
  },
  {
   "cell_type": "code",
   "execution_count": 113,
   "metadata": {},
   "outputs": [],
   "source": [
    "dataframe = dataframe.drop(['zip'], axis=1)"
   ]
  },
  {
   "cell_type": "code",
   "execution_count": 114,
   "metadata": {},
   "outputs": [],
   "source": [
    "#dataframe.columns"
   ]
  },
  {
   "cell_type": "code",
   "execution_count": 115,
   "metadata": {},
   "outputs": [
    {
     "data": {
      "text/plain": [
       "(17439, 80)"
      ]
     },
     "execution_count": 115,
     "metadata": {},
     "output_type": "execute_result"
    }
   ],
   "source": [
    "# initiate PCA\n",
    "pca = PCA()\n",
    "\n",
    "# transform / fit\n",
    "\n",
    "dataframe.iloc[:,:-2] = pca.fit_transform(dataframe.iloc[:,:-2])\n",
    "dataframe.shape"
   ]
  },
  {
   "cell_type": "code",
   "execution_count": 116,
   "metadata": {},
   "outputs": [
    {
     "data": {
      "text/plain": [
       "(12073, 80)"
      ]
     },
     "execution_count": 116,
     "metadata": {},
     "output_type": "execute_result"
    }
   ],
   "source": [
    "# train dataset\n",
    "train = dataframe.loc[dataframe.id.isin(traindata.id)]\n",
    "train.shape"
   ]
  },
  {
   "cell_type": "code",
   "execution_count": 117,
   "metadata": {},
   "outputs": [
    {
     "data": {
      "text/plain": [
       "(5366, 80)"
      ]
     },
     "execution_count": 117,
     "metadata": {},
     "output_type": "execute_result"
    }
   ],
   "source": [
    "# prediction dataset\n",
    "pred = dataframe.loc[dataframe.id.isin(Pred_data.id)]\n",
    "pred.shape"
   ]
  },
  {
   "cell_type": "code",
   "execution_count": 118,
   "metadata": {},
   "outputs": [],
   "source": [
    "# Create X and y from dataset\n",
    "y_train = train.y\n",
    "X_train = train.iloc[:,:-2]"
   ]
  },
  {
   "cell_type": "code",
   "execution_count": 119,
   "metadata": {},
   "outputs": [],
   "source": [
    "y_pred = pred.y\n",
    "X_pred = pred.iloc[:,:-2]"
   ]
  },
  {
   "cell_type": "code",
   "execution_count": 120,
   "metadata": {},
   "outputs": [],
   "source": [
    "# using SMOTE to balance the dataset\n",
    "sm = SMOTE(random_state = 42) \n",
    "X_res, y_res = sm.fit_sample(X_train, y_train.ravel()) \n",
    "\n",
    "# fitting in the model\n",
    "xg1 = XGBClassifier() \n",
    "xg1.fit(X_res, y_res.ravel()) \n",
    "y_pred = xg1.predict(X_pred)\n",
    "pred_prob = xg1.predict_proba(X_pred)\n",
    "\n",
    "# creating a list of column names \n",
    "column_values = ['prob0', 'prob1'] \n",
    "  \n",
    "# creating the dataframe \n",
    "df1 = pd.DataFrame(data = pred_prob,  \n",
    "                  columns = column_values) \n",
    "\n",
    "Pred_data['y_hats'] = y_pred\n",
    "Pred_data['y_hats_prob0'] = df1['prob0']\n",
    "Pred_data['y_hats_prob1'] = df1['prob1']"
   ]
  },
  {
   "cell_type": "code",
   "execution_count": 121,
   "metadata": {},
   "outputs": [
    {
     "data": {
      "text/plain": [
       "0.0    4850\n",
       "1.0     516\n",
       "Name: y_hats, dtype: int64"
      ]
     },
     "execution_count": 121,
     "metadata": {},
     "output_type": "execute_result"
    }
   ],
   "source": [
    "Pred_data.y_hats.value_counts(dropna=False)"
   ]
  },
  {
   "cell_type": "code",
   "execution_count": 118,
   "metadata": {},
   "outputs": [],
   "source": [
    "#Pred_data[['id','y_hats']].to_csv('predictions_AnhPhan_model1.csv', encoding='utf-8', index=False)"
   ]
  },
  {
   "cell_type": "code",
   "execution_count": 119,
   "metadata": {},
   "outputs": [],
   "source": [
    "#Pred_data[['id','y_hats_prob0','y_hats_prob1']].to_csv('predictions_AnhPhan_model1_prob.csv', encoding='utf-8', index=False)"
   ]
  },
  {
   "cell_type": "markdown",
   "metadata": {},
   "source": [
    "## 4. Anomalies Detection using Autoencoders\n",
    "\n",
    "This approach has two important benefits:\n",
    "- Imbalance of the data is not a problem: there is plenty of data to train the model\n",
    "- Anomalies detection is not trained for any particular type of anomaly: anything that is different from normal can be detected"
   ]
  },
  {
   "cell_type": "code",
   "execution_count": 125,
   "metadata": {},
   "outputs": [],
   "source": [
    "featuresList = [col for col in RatesData]\n",
    "# Extract the labels from train and test data.\n",
    "#print('featuresList: ',featuresList)\n",
    "Train = traindata[featuresList + ['y']]\n",
    "#print('\\nTrain sample: \\n')\n",
    "#Train.head()"
   ]
  },
  {
   "cell_type": "markdown",
   "metadata": {},
   "source": [
    "Drop column ID since it does not seem to be informative. Drop Zip code column because it has different scale with other variables. The future work should be map the zip to city and state, then convert the value to categorical variables."
   ]
  },
  {
   "cell_type": "code",
   "execution_count": 126,
   "metadata": {},
   "outputs": [],
   "source": [
    "featuresList = [col for col in RatesData]\n",
    "# Extract the labels from train and test data.\n",
    "#print('featuresList: ',featuresList)\n",
    "Train = traindata[featuresList + ['y']]\n",
    "#print('\\nTrain sample: \\n')\n",
    "#Train.head()"
   ]
  },
  {
   "cell_type": "code",
   "execution_count": 127,
   "metadata": {},
   "outputs": [
    {
     "name": "stderr",
     "output_type": "stream",
     "text": [
      "/opt/anaconda3/lib/python3.7/site-packages/ipykernel_launcher.py:6: SettingWithCopyWarning: \n",
      "A value is trying to be set on a copy of a slice from a DataFrame.\n",
      "Try using .loc[row_indexer,col_indexer] = value instead\n",
      "\n",
      "See the caveats in the documentation: http://pandas.pydata.org/pandas-docs/stable/user_guide/indexing.html#returning-a-view-versus-a-copy\n",
      "  \n"
     ]
    }
   ],
   "source": [
    "# create list of column need to convert to category type\n",
    "cates = ['a12', 'a14', 'code','b13','b14','b21', 'b34','b39','b58']\n",
    "\n",
    "# loop to change each column to interger type\n",
    "for col in cates:\n",
    "    Train[col] = Train[col].astype('category',copy=False)\n",
    "    Pred_data[col] = Pred_data[col].astype('category',copy=False)"
   ]
  },
  {
   "cell_type": "markdown",
   "metadata": {},
   "source": [
    "### One hot encoding\n",
    "Transform character variables into numeric format using one hot encoding implemented in pd.get_dummies()."
   ]
  },
  {
   "cell_type": "code",
   "execution_count": 129,
   "metadata": {},
   "outputs": [],
   "source": [
    "Train = pd.get_dummies(Train)\n",
    "#Train.head()"
   ]
  },
  {
   "cell_type": "code",
   "execution_count": 131,
   "metadata": {},
   "outputs": [
    {
     "name": "stdout",
     "output_type": "stream",
     "text": [
      "featuresList:  ['a00', 'a01', 'a02', 'a03', 'a04', 'a05', 'a06', 'a07', 'a08', 'a09', 'a10', 'a11', 'a13', 'a15', 'a16', 'a17', 'b00', 'b01', 'b02', 'b03', 'b04', 'b05', 'b06', 'b07', 'b08', 'b09', 'b10', 'b11', 'b12', 'b15', 'b16', 'b17', 'b18', 'b19', 'b20', 'b22', 'b23', 'b24', 'b25', 'b26', 'b27', 'b28', 'b29', 'b30', 'b31', 'b32', 'b33', 'b35', 'b36', 'b37', 'b38', 'b40', 'b41', 'b42', 'b43', 'b44', 'b45', 'b46', 'b47', 'b48', 'b49', 'b50', 'b51', 'b52', 'b53', 'b54', 'b55', 'b56', 'b57', 'a12_1', 'a12_2', 'a12_3', 'a12_4', 'a12_5', 'a12_6', 'a12_7', 'a14_1', 'a14_2', 'a14_3', 'a14_4', 'a14_5', 'a14_6', 'a14_7', 'a14_8', 'a14_9', 'a14_10', 'code_0', 'code_1', 'code_2', 'code_3', 'code_4', 'code_5', 'code_6', 'code_7', 'code_8', 'code_9', 'b13_2', 'b13_3', 'b13_4', 'b13_5', 'b13_6', 'b13_7', 'b13_8', 'b13_9', 'b14_2', 'b14_3', 'b14_4', 'b14_5', 'b14_6', 'b14_7', 'b14_8', 'b14_9', 'b14_10', 'b21_1', 'b21_2', 'b21_3', 'b34_2', 'b34_3', 'b34_4', 'b34_5', 'b34_6', 'b39_1', 'b39_2', 'b39_3', 'b39_4', 'b39_5', 'b39_6', 'b39_7', 'b39_8', 'b39_9', 'b39_10', 'b39_11', 'b58_1', 'b58_2', 'b58_3', 'b58_4', 'b58_5', 'b58_6', 'b58_7', 'b58_8', 'b58_9', 'b58_10', 'b58_11', 'b58_12']\n"
     ]
    }
   ],
   "source": [
    "featuresList = [col for col in Train if col != 'y']\n",
    "print('featuresList: ',featuresList)\n",
    "Train = Train[featuresList + ['y']]\n",
    "#print('\\nTrain sample: \\n')\n",
    "#Train.head()"
   ]
  },
  {
   "cell_type": "code",
   "execution_count": 150,
   "metadata": {},
   "outputs": [
    {
     "data": {
      "text/plain": [
       "StandardScaler()"
      ]
     },
     "execution_count": 150,
     "metadata": {},
     "output_type": "execute_result"
    }
   ],
   "source": [
    "from sklearn import preprocessing\n",
    "from sklearn.preprocessing import StandardScaler\n",
    "scaler = preprocessing.StandardScaler()\n",
    "scaler.fit(Train[featuresList])"
   ]
  },
  {
   "cell_type": "code",
   "execution_count": 151,
   "metadata": {},
   "outputs": [],
   "source": [
    "Train[featuresList] = scaler.transform(Train[featuresList])\n",
    "#Train.head()"
   ]
  },
  {
   "cell_type": "code",
   "execution_count": 152,
   "metadata": {},
   "outputs": [],
   "source": [
    "# Split the data into train and test subsets\n",
    "X_train_split, X_test_split = train_test_split(Train, \n",
    "                               test_size=0.2, \n",
    "                               shuffle=True, \n",
    "                               stratify=Train['y'],\n",
    "                               random_state=1)"
   ]
  },
  {
   "cell_type": "markdown",
   "metadata": {},
   "source": [
    "Extract the labels from train and test data."
   ]
  },
  {
   "cell_type": "code",
   "execution_count": 153,
   "metadata": {},
   "outputs": [
    {
     "name": "stdout",
     "output_type": "stream",
     "text": [
      "Train: shape X (9658, 144) , shape Y (9658,)\n",
      "Test: shape X (2415, 144) , shape Y (2415,)\n"
     ]
    }
   ],
   "source": [
    "# Detach the labels from the train and the test datasets\n",
    "y_train = X_train_split['y']\n",
    "X_train = X_train_split.drop(['y'], axis=1)\n",
    "\n",
    "y_test = X_test_split['y']\n",
    "X_test = X_test_split.drop(['y'], axis=1)\n",
    "print('Train: shape X',X_train.shape,', shape Y',y_train.shape)\n",
    "print('Test: shape X',X_test.shape,', shape Y',y_test.shape)"
   ]
  },
  {
   "cell_type": "markdown",
   "metadata": {},
   "source": [
    "Select the negative value (normal) from the training data to train autoencoder on them."
   ]
  },
  {
   "cell_type": "code",
   "execution_count": 154,
   "metadata": {},
   "outputs": [],
   "source": [
    "X_trainNorm = X_train[y_train == 0]\n",
    "X_trainNorm_val = X_trainNorm.values # Only values, axis labels removed. This is input for the Autoencoder\n",
    "X_testNorm_val = X_test[y_test == 0].values # The validation data"
   ]
  },
  {
   "cell_type": "code",
   "execution_count": 155,
   "metadata": {},
   "outputs": [
    {
     "name": "stdout",
     "output_type": "stream",
     "text": [
      "(9658,)\n",
      "(9658, 144)\n"
     ]
    }
   ],
   "source": [
    "print(y_train.shape)\n",
    "print(X_train.shape)"
   ]
  },
  {
   "cell_type": "code",
   "execution_count": 156,
   "metadata": {},
   "outputs": [
    {
     "data": {
      "text/plain": [
       "(8644, 144)"
      ]
     },
     "execution_count": 156,
     "metadata": {},
     "output_type": "execute_result"
    }
   ],
   "source": [
    "X_trainNorm_val.shape"
   ]
  },
  {
   "cell_type": "markdown",
   "metadata": {},
   "source": [
    "### Creating the model"
   ]
  },
  {
   "cell_type": "code",
   "execution_count": 157,
   "metadata": {},
   "outputs": [],
   "source": [
    "input_dim = X_trainNorm_val.shape[1]\n",
    "layer1_dim = 14\n",
    "encoder_dim = 7"
   ]
  },
  {
   "cell_type": "code",
   "execution_count": 158,
   "metadata": {},
   "outputs": [],
   "source": [
    "from keras.models import Model, load_model\n",
    "from keras.layers import Input, Dense, Dropout, BatchNormalization\n",
    "\n",
    "def getModel():\n",
    "    inp = Input(shape=(X_trainNorm_val.shape[1],))\n",
    "    #d1=Dropout(0.3)(inp)\n",
    "    bn = BatchNormalization()\n",
    "    encoder1 = Dense(layer1_dim, activation=\"tanh\", activity_regularizer=regularizers.l1(10e-5))(inp)\n",
    "    encoder2 = Dense(encoder_dim, activation=\"relu\")(encoder1)\n",
    "    decoder1 = Dense(layer1_dim, activation='tanh')(encoder2)\n",
    "    decoder2 = Dense(input_dim, activation='linear')(decoder1)\n",
    "    autoencoder = Model(inp, decoder2)\n",
    "    autoencoder.compile(optimizer='adam', loss='mean_squared_error')\n",
    "    return autoencoder\n",
    "\n",
    "autoencoder=getModel()"
   ]
  },
  {
   "cell_type": "code",
   "execution_count": 159,
   "metadata": {},
   "outputs": [
    {
     "name": "stdout",
     "output_type": "stream",
     "text": [
      "Model: \"functional_3\"\n",
      "_________________________________________________________________\n",
      "Layer (type)                 Output Shape              Param #   \n",
      "=================================================================\n",
      "input_2 (InputLayer)         [(None, 144)]             0         \n",
      "_________________________________________________________________\n",
      "dense_4 (Dense)              (None, 14)                2030      \n",
      "_________________________________________________________________\n",
      "dense_5 (Dense)              (None, 7)                 105       \n",
      "_________________________________________________________________\n",
      "dense_6 (Dense)              (None, 14)                112       \n",
      "_________________________________________________________________\n",
      "dense_7 (Dense)              (None, 144)               2160      \n",
      "=================================================================\n",
      "Total params: 4,407\n",
      "Trainable params: 4,407\n",
      "Non-trainable params: 0\n",
      "_________________________________________________________________\n"
     ]
    }
   ],
   "source": [
    "autoencoder.summary()"
   ]
  },
  {
   "cell_type": "code",
   "execution_count": 160,
   "metadata": {},
   "outputs": [
    {
     "name": "stdout",
     "output_type": "stream",
     "text": [
      "Epoch 1/150\n",
      "87/87 [==============================] - 0s 2ms/step - loss: 0.9805 - val_loss: 1.0426\n",
      "Epoch 2/150\n",
      "87/87 [==============================] - 0s 1ms/step - loss: 0.9526 - val_loss: 1.0221\n",
      "Epoch 3/150\n",
      "87/87 [==============================] - 0s 1ms/step - loss: 0.9341 - val_loss: 1.0074\n",
      "Epoch 4/150\n",
      "87/87 [==============================] - 0s 1ms/step - loss: 0.9209 - val_loss: 0.9961\n",
      "Epoch 5/150\n",
      "87/87 [==============================] - 0s 1ms/step - loss: 0.9102 - val_loss: 0.9862\n",
      "Epoch 6/150\n",
      "87/87 [==============================] - 0s 1ms/step - loss: 0.9003 - val_loss: 0.9764\n",
      "Epoch 7/150\n",
      "87/87 [==============================] - 0s 1ms/step - loss: 0.8913 - val_loss: 0.9684\n",
      "Epoch 8/150\n",
      "87/87 [==============================] - 0s 1ms/step - loss: 0.8846 - val_loss: 0.9626\n",
      "Epoch 9/150\n",
      "87/87 [==============================] - 0s 1ms/step - loss: 0.8797 - val_loss: 0.9583\n",
      "Epoch 10/150\n",
      "87/87 [==============================] - 0s 1ms/step - loss: 0.8762 - val_loss: 0.9553\n",
      "Epoch 11/150\n",
      "87/87 [==============================] - 0s 2ms/step - loss: 0.8737 - val_loss: 0.9531\n",
      "Epoch 12/150\n",
      "87/87 [==============================] - 0s 2ms/step - loss: 0.8719 - val_loss: 0.9514\n",
      "Epoch 13/150\n",
      "87/87 [==============================] - 0s 1ms/step - loss: 0.8706 - val_loss: 0.9502\n",
      "Epoch 14/150\n",
      "87/87 [==============================] - 0s 1ms/step - loss: 0.8695 - val_loss: 0.9492\n",
      "Epoch 15/150\n",
      "87/87 [==============================] - 0s 1ms/step - loss: 0.8687 - val_loss: 0.9486\n",
      "Epoch 16/150\n",
      "87/87 [==============================] - 0s 1ms/step - loss: 0.8680 - val_loss: 0.9479\n",
      "Epoch 17/150\n",
      "87/87 [==============================] - 0s 1ms/step - loss: 0.8675 - val_loss: 0.9475\n",
      "Epoch 18/150\n",
      "87/87 [==============================] - 0s 1ms/step - loss: 0.8670 - val_loss: 0.9471\n",
      "Epoch 19/150\n",
      "87/87 [==============================] - 0s 1ms/step - loss: 0.8667 - val_loss: 0.9468\n",
      "Epoch 20/150\n",
      "87/87 [==============================] - 0s 2ms/step - loss: 0.8664 - val_loss: 0.9465\n",
      "Epoch 21/150\n",
      "87/87 [==============================] - 0s 2ms/step - loss: 0.8661 - val_loss: 0.9463\n",
      "Epoch 22/150\n",
      "87/87 [==============================] - 0s 2ms/step - loss: 0.8659 - val_loss: 0.9461\n",
      "Epoch 23/150\n",
      "87/87 [==============================] - 0s 2ms/step - loss: 0.8657 - val_loss: 0.9460\n",
      "Epoch 24/150\n",
      "87/87 [==============================] - 0s 2ms/step - loss: 0.8656 - val_loss: 0.9459\n",
      "Epoch 25/150\n",
      "87/87 [==============================] - 0s 1ms/step - loss: 0.8654 - val_loss: 0.9458\n",
      "Epoch 26/150\n",
      "87/87 [==============================] - 0s 1ms/step - loss: 0.8653 - val_loss: 0.9456\n",
      "Epoch 27/150\n",
      "87/87 [==============================] - 0s 1ms/step - loss: 0.8651 - val_loss: 0.9455\n",
      "Epoch 28/150\n",
      "87/87 [==============================] - 0s 1ms/step - loss: 0.8650 - val_loss: 0.9454\n",
      "Epoch 29/150\n",
      "87/87 [==============================] - 0s 1ms/step - loss: 0.8650 - val_loss: 0.9454\n",
      "Epoch 30/150\n",
      "87/87 [==============================] - 0s 1ms/step - loss: 0.8649 - val_loss: 0.9453\n",
      "Epoch 31/150\n",
      "87/87 [==============================] - 0s 1ms/step - loss: 0.8648 - val_loss: 0.9452\n",
      "Epoch 32/150\n",
      "87/87 [==============================] - 0s 1ms/step - loss: 0.8647 - val_loss: 0.9452\n",
      "Epoch 33/150\n",
      "87/87 [==============================] - 0s 1ms/step - loss: 0.8647 - val_loss: 0.9451\n",
      "Epoch 34/150\n",
      "87/87 [==============================] - 0s 1ms/step - loss: 0.8646 - val_loss: 0.9450\n",
      "Epoch 35/150\n",
      "87/87 [==============================] - 0s 1ms/step - loss: 0.8645 - val_loss: 0.9450\n",
      "Epoch 36/150\n",
      "87/87 [==============================] - 0s 1ms/step - loss: 0.8645 - val_loss: 0.9449\n",
      "Epoch 37/150\n",
      "87/87 [==============================] - 0s 1ms/step - loss: 0.8644 - val_loss: 0.9448\n",
      "Epoch 38/150\n",
      "87/87 [==============================] - 0s 1ms/step - loss: 0.8644 - val_loss: 0.9449\n"
     ]
    }
   ],
   "source": [
    "nb_epoch = 150\n",
    "batch_size = 100\n",
    "checkpointer = ModelCheckpoint(filepath=\"autoencoder_2.h5\",\n",
    "                               verbose=0,\n",
    "                               save_best_only=True)\n",
    "earlystopping = EarlyStopping(monitor='val_loss', patience=1, verbose=0) # 'patience' number of not improving epochs\n",
    "history = autoencoder.fit(X_trainNorm_val, X_trainNorm_val,\n",
    "                    epochs=nb_epoch,\n",
    "                    batch_size=batch_size,\n",
    "                    shuffle=True,\n",
    "                    validation_data=(X_testNorm_val, X_testNorm_val),\n",
    "                    verbose=1,\n",
    "                    callbacks=[checkpointer, #tensorboard, \n",
    "                               earlystopping]).history"
   ]
  },
  {
   "cell_type": "code",
   "execution_count": 161,
   "metadata": {},
   "outputs": [],
   "source": [
    "autoencoder = load_model('autoencoder_2.h5')"
   ]
  },
  {
   "cell_type": "markdown",
   "metadata": {},
   "source": [
    "### Evaluation"
   ]
  },
  {
   "cell_type": "code",
   "execution_count": 162,
   "metadata": {},
   "outputs": [
    {
     "data": {
      "image/png": "[encoded data removed]",
      "text/plain": [
       "<Figure size 1008x576 with 1 Axes>"
      ]
     },
     "metadata": {
      "needs_background": "light"
     },
     "output_type": "display_data"
    }
   ],
   "source": [
    "plt.plot(history['loss'])\n",
    "plt.plot(history['val_loss'])\n",
    "plt.title('model loss')\n",
    "plt.ylabel('loss')\n",
    "plt.xlabel('epoch')\n",
    "plt.legend(['train', 'test'], loc='upper right');"
   ]
  },
  {
   "cell_type": "markdown",
   "metadata": {},
   "source": [
    "Calculate predictions by the autoencoder:"
   ]
  },
  {
   "cell_type": "code",
   "execution_count": 163,
   "metadata": {},
   "outputs": [
    {
     "data": {
      "text/plain": [
       "((2415, 144), (2415, 144))"
      ]
     },
     "execution_count": 163,
     "metadata": {},
     "output_type": "execute_result"
    }
   ],
   "source": [
    "testPredictions = autoencoder.predict(X_test)\n",
    "X_test.shape,testPredictions.shape"
   ]
  },
  {
   "cell_type": "markdown",
   "metadata": {},
   "source": [
    "Calculate mean squared error."
   ]
  },
  {
   "cell_type": "code",
   "execution_count": 164,
   "metadata": {},
   "outputs": [
    {
     "data": {
      "text/html": [
       "<div>\n",
       "<style scoped>\n",
       "    .dataframe tbody tr th:only-of-type {\n",
       "        vertical-align: middle;\n",
       "    }\n",
       "\n",
       "    .dataframe tbody tr th {\n",
       "        vertical-align: top;\n",
       "    }\n",
       "\n",
       "    .dataframe thead th {\n",
       "        text-align: right;\n",
       "    }\n",
       "</style>\n",
       "<table border=\"1\" class=\"dataframe\">\n",
       "  <thead>\n",
       "    <tr style=\"text-align: right;\">\n",
       "      <th></th>\n",
       "      <th>reconstruction_error</th>\n",
       "      <th>true_class</th>\n",
       "    </tr>\n",
       "  </thead>\n",
       "  <tbody>\n",
       "    <tr>\n",
       "      <td>1240</td>\n",
       "      <td>0.783822</td>\n",
       "      <td>0</td>\n",
       "    </tr>\n",
       "    <tr>\n",
       "      <td>177</td>\n",
       "      <td>1.195569</td>\n",
       "      <td>0</td>\n",
       "    </tr>\n",
       "    <tr>\n",
       "      <td>4524</td>\n",
       "      <td>0.934630</td>\n",
       "      <td>1</td>\n",
       "    </tr>\n",
       "    <tr>\n",
       "      <td>4087</td>\n",
       "      <td>0.883251</td>\n",
       "      <td>0</td>\n",
       "    </tr>\n",
       "    <tr>\n",
       "      <td>2070</td>\n",
       "      <td>0.712459</td>\n",
       "      <td>0</td>\n",
       "    </tr>\n",
       "  </tbody>\n",
       "</table>\n",
       "</div>"
      ],
      "text/plain": [
       "      reconstruction_error  true_class\n",
       "1240              0.783822           0\n",
       "177               1.195569           0\n",
       "4524              0.934630           1\n",
       "4087              0.883251           0\n",
       "2070              0.712459           0"
      ]
     },
     "execution_count": 164,
     "metadata": {},
     "output_type": "execute_result"
    }
   ],
   "source": [
    "testMSE = mean_squared_error(X_test.transpose(), testPredictions.transpose(),\n",
    "                              multioutput='raw_values')\n",
    "error_df = pd.DataFrame({'reconstruction_error': testMSE,'true_class': y_test})\n",
    "error_df.head()"
   ]
  },
  {
   "cell_type": "code",
   "execution_count": 165,
   "metadata": {},
   "outputs": [
    {
     "data": {
      "text/plain": [
       "(2415, 2)"
      ]
     },
     "execution_count": 165,
     "metadata": {},
     "output_type": "execute_result"
    }
   ],
   "source": [
    "error_df.shape"
   ]
  },
  {
   "cell_type": "code",
   "execution_count": 166,
   "metadata": {},
   "outputs": [
    {
     "data": {
      "text/plain": [
       "count    2415.000000\n",
       "mean        0.939070\n",
       "std         2.417183\n",
       "min         0.369772\n",
       "25%         0.592926\n",
       "50%         0.690799\n",
       "75%         0.841253\n",
       "max        84.863183\n",
       "Name: reconstruction_error, dtype: float64"
      ]
     },
     "execution_count": 166,
     "metadata": {},
     "output_type": "execute_result"
    }
   ],
   "source": [
    "error_df.reconstruction_error.describe()"
   ]
  },
  {
   "cell_type": "markdown",
   "metadata": {},
   "source": [
    "### Reconstruction errors for negative and positive value"
   ]
  },
  {
   "cell_type": "markdown",
   "metadata": {},
   "source": [
    "Plot histogram of errors of reconstruction for normal data."
   ]
  },
  {
   "cell_type": "code",
   "execution_count": 167,
   "metadata": {},
   "outputs": [
    {
     "data": {
      "image/png": "[encoded data removed]",
      "text/plain": [
       "<Figure size 1008x576 with 1 Axes>"
      ]
     },
     "metadata": {
      "needs_background": "light"
     },
     "output_type": "display_data"
    }
   ],
   "source": [
    "fig = plt.figure()\n",
    "ax = fig.add_subplot(111)\n",
    "normal_error_df = error_df[(error_df['true_class']== 0) & (error_df['reconstruction_error'] < 2)]\n",
    "ax.hist(normal_error_df.reconstruction_error.values, bins=10);"
   ]
  },
  {
   "cell_type": "markdown",
   "metadata": {},
   "source": [
    "Compare distribution of reconstruction error for negative data and for positive data."
   ]
  },
  {
   "cell_type": "code",
   "execution_count": 168,
   "metadata": {},
   "outputs": [
    {
     "data": {
      "image/png": "[encoded data removed]",
      "text/plain": [
       "<Figure size 1008x576 with 1 Axes>"
      ]
     },
     "metadata": {
      "needs_background": "light"
     },
     "output_type": "display_data"
    }
   ],
   "source": [
    "fig = plt.figure()\n",
    "ax = fig.add_subplot(111)\n",
    "fraud_error_df = error_df[error_df['true_class'] == 1]\n",
    "ax.hist(fraud_error_df.reconstruction_error.values, bins=10);"
   ]
  },
  {
   "cell_type": "markdown",
   "metadata": {},
   "source": [
    "Errors of reconstruction of both type of data are similar."
   ]
  },
  {
   "cell_type": "code",
   "execution_count": 169,
   "metadata": {},
   "outputs": [],
   "source": [
    "from sklearn.metrics import (confusion_matrix, auc, roc_curve, cohen_kappa_score, accuracy_score)"
   ]
  },
  {
   "cell_type": "markdown",
   "metadata": {},
   "source": [
    "Calculate ROC curve and AUC:"
   ]
  },
  {
   "cell_type": "code",
   "execution_count": 170,
   "metadata": {},
   "outputs": [
    {
     "data": {
      "image/png": "[encoded data removed]",
      "text/plain": [
       "<Figure size 1008x576 with 1 Axes>"
      ]
     },
     "metadata": {
      "needs_background": "light"
     },
     "output_type": "display_data"
    }
   ],
   "source": [
    "fpr, tpr, thresholds = roc_curve(error_df.true_class, error_df.reconstruction_error)\n",
    "roc_auc = auc(fpr, tpr)\n",
    "\n",
    "plt.title('Receiver Operating Characteristic')\n",
    "plt.plot(fpr, tpr, label='AUC = %0.4f'% roc_auc)\n",
    "plt.legend(loc='lower right')\n",
    "plt.plot([0,1],[0,1],'r--')\n",
    "plt.xlim([-0.001, 1])\n",
    "plt.ylim([0, 1.001])\n",
    "plt.ylabel('True Positive Rate')\n",
    "plt.xlabel('False Positive Rate')\n",
    "plt.show();"
   ]
  },
  {
   "cell_type": "markdown",
   "metadata": {},
   "source": [
    "The AUC for the autoencoder predictions is not high."
   ]
  },
  {
   "cell_type": "markdown",
   "metadata": {},
   "source": [
    "### Prediction\n",
    "To detect anomaly based on prediction MSE select a high level quantile of the MSE sample that guarantees probability of type 1 error. Select 0.995 quantile of the reconstruction error for \"normal\" class."
   ]
  },
  {
   "cell_type": "code",
   "execution_count": 171,
   "metadata": {},
   "outputs": [
    {
     "data": {
      "text/plain": [
       "1.8036164957745573"
      ]
     },
     "execution_count": 171,
     "metadata": {},
     "output_type": "execute_result"
    }
   ],
   "source": [
    "threshold = normal_error_df.reconstruction_error.quantile(q=0.995)\n",
    "threshold"
   ]
  },
  {
   "cell_type": "code",
   "execution_count": 172,
   "metadata": {},
   "outputs": [
    {
     "data": {
      "image/png": "[encoded data removed]",
      "text/plain": [
       "<Figure size 576x576 with 2 Axes>"
      ]
     },
     "metadata": {
      "needs_background": "light"
     },
     "output_type": "display_data"
    }
   ],
   "source": [
    "y_pred = [1 if e > threshold else 0 for e in error_df.reconstruction_error.values]\n",
    "conf_matrix = confusion_matrix(error_df.true_class, y_pred)\n",
    "\n",
    "plt.figure(figsize=(8, 8))\n",
    "sns.heatmap(conf_matrix, xticklabels=LABELS, yticklabels=LABELS, annot=True, fmt=\"d\");\n",
    "plt.title(\"Confusion matrix\")\n",
    "plt.ylabel('True class')\n",
    "plt.xlabel('Predicted class')\n",
    "plt.tight_layout()\n",
    "plt.show()"
   ]
  },
  {
   "cell_type": "code",
   "execution_count": 173,
   "metadata": {},
   "outputs": [
    {
     "name": "stdout",
     "output_type": "stream",
     "text": [
      "              precision    recall  f1-score   support\n",
      "\n",
      "           0       0.89      0.95      0.92      2162\n",
      "           1       0.08      0.04      0.05       253\n",
      "\n",
      "    accuracy                           0.86      2415\n",
      "   macro avg       0.49      0.50      0.49      2415\n",
      "weighted avg       0.81      0.86      0.83      2415\n",
      "\n"
     ]
    }
   ],
   "source": [
    "# print classification report \n",
    "print(classification_report(error_df.true_class, y_pred))"
   ]
  },
  {
   "cell_type": "code",
   "execution_count": 174,
   "metadata": {},
   "outputs": [
    {
     "data": {
      "text/plain": [
       "(-0.01309033459346609, 0.8583850931677018)"
      ]
     },
     "execution_count": 174,
     "metadata": {},
     "output_type": "execute_result"
    }
   ],
   "source": [
    "cohen_kappa_score(error_df.true_class, y_pred),accuracy_score(error_df.true_class, y_pred)"
   ]
  },
  {
   "cell_type": "markdown",
   "metadata": {},
   "source": [
    "## 5. Anomalies Detection using Classifier"
   ]
  },
  {
   "cell_type": "code",
   "execution_count": 175,
   "metadata": {},
   "outputs": [],
   "source": [
    "%matplotlib inline\n",
    "import matplotlib.pyplot as plt\n",
    "import pandas as pd\n",
    "import numpy as np\n",
    "from sklearn.model_selection import train_test_split\n",
    "from tensorflow.keras.layers import Input, Dense, Dropout, BatchNormalization\n",
    "from tensorflow.keras.models import Model, load_model\n",
    "from tensorflow.keras import regularizers\n",
    "from tensorflow.keras.callbacks import ModelCheckpoint, TensorBoard, EarlyStopping\n",
    "from tensorflow.keras.optimizers import Adam\n",
    "from sklearn import preprocessing\n",
    "import seaborn as sns\n",
    "from sklearn.metrics import (confusion_matrix, precision_recall_curve, auc,\n",
    "                             roc_curve, recall_score, classification_report, f1_score,\n",
    "                             precision_recall_fscore_support,\n",
    "                             cohen_kappa_score, accuracy_score)\n",
    "import sklearn.metrics as skm\n",
    "from pylab import rcParams\n",
    "import pickle\n",
    "\n",
    "# Set some visualization parameters:\n",
    "rcParams['figure.figsize'] = 14, 8\n",
    "pd.set_option('display.max_columns', 100)\n",
    "pd.set_option('display.max_rows', 100)"
   ]
  },
  {
   "cell_type": "markdown",
   "metadata": {},
   "source": [
    "### Creating the model"
   ]
  },
  {
   "cell_type": "code",
   "execution_count": 176,
   "metadata": {},
   "outputs": [
    {
     "name": "stdout",
     "output_type": "stream",
     "text": [
      "Model: \"functional_5\"\n",
      "_________________________________________________________________\n",
      "Layer (type)                 Output Shape              Param #   \n",
      "=================================================================\n",
      "input_3 (InputLayer)         [(None, 144)]             0         \n",
      "_________________________________________________________________\n",
      "dense_8 (Dense)              (None, 11)                1595      \n",
      "_________________________________________________________________\n",
      "dropout (Dropout)            (None, 11)                0         \n",
      "_________________________________________________________________\n",
      "dense_9 (Dense)              (None, 1)                 12        \n",
      "=================================================================\n",
      "Total params: 1,607\n",
      "Trainable params: 1,607\n",
      "Non-trainable params: 0\n",
      "_________________________________________________________________\n"
     ]
    }
   ],
   "source": [
    "input_dim = len(featuresList)\n",
    "input_layer = Input(shape=(input_dim, ))\n",
    "classifier = Dense(11, activation='relu')(input_layer)\n",
    "classifier = Dropout(0.5)(classifier)\n",
    "classifier = Dense(1, activation='sigmoid')(classifier)\n",
    "classModel = Model(inputs=input_layer, outputs=classifier)\n",
    "classModel.summary()"
   ]
  },
  {
   "cell_type": "markdown",
   "metadata": {},
   "source": [
    "Split the dataset into train and validation subsets:"
   ]
  },
  {
   "cell_type": "code",
   "execution_count": 177,
   "metadata": {},
   "outputs": [],
   "source": [
    "train, test = train_test_split(Train, \n",
    "                               test_size=0.2, \n",
    "                               shuffle=True, \n",
    "                               stratify=Train['y'],\n",
    "                               random_state=1)"
   ]
  },
  {
   "cell_type": "code",
   "execution_count": 178,
   "metadata": {},
   "outputs": [
    {
     "name": "stdout",
     "output_type": "stream",
     "text": [
      "Epoch 1/150\n",
      "38/38 [==============================] - 0s 8ms/step - loss: 0.3663 - val_loss: 0.3317\n",
      "Epoch 2/150\n",
      "38/38 [==============================] - 0s 1ms/step - loss: 0.3242 - val_loss: 0.2780\n",
      "Epoch 3/150\n",
      "38/38 [==============================] - 0s 2ms/step - loss: 0.2847 - val_loss: 0.2330\n",
      "Epoch 4/150\n",
      "38/38 [==============================] - 0s 2ms/step - loss: 0.2499 - val_loss: 0.1965\n",
      "Epoch 5/150\n",
      "38/38 [==============================] - 0s 2ms/step - loss: 0.2202 - val_loss: 0.1688\n",
      "Epoch 6/150\n",
      "38/38 [==============================] - 0s 2ms/step - loss: 0.2010 - val_loss: 0.1476\n",
      "Epoch 7/150\n",
      "38/38 [==============================] - 0s 2ms/step - loss: 0.1776 - val_loss: 0.1320\n",
      "Epoch 8/150\n",
      "38/38 [==============================] - 0s 2ms/step - loss: 0.1659 - val_loss: 0.1201\n",
      "Epoch 9/150\n",
      "38/38 [==============================] - 0s 2ms/step - loss: 0.1523 - val_loss: 0.1117\n",
      "Epoch 10/150\n",
      "38/38 [==============================] - 0s 2ms/step - loss: 0.1439 - val_loss: 0.1050\n",
      "Epoch 11/150\n",
      "38/38 [==============================] - 0s 2ms/step - loss: 0.1358 - val_loss: 0.0999\n",
      "Epoch 12/150\n",
      "38/38 [==============================] - 0s 2ms/step - loss: 0.1307 - val_loss: 0.0960\n",
      "Epoch 13/150\n",
      "38/38 [==============================] - 0s 2ms/step - loss: 0.1239 - val_loss: 0.0927\n",
      "Epoch 14/150\n",
      "38/38 [==============================] - 0s 2ms/step - loss: 0.1207 - val_loss: 0.0900\n",
      "Epoch 15/150\n",
      "38/38 [==============================] - 0s 2ms/step - loss: 0.1175 - val_loss: 0.0878\n",
      "Epoch 16/150\n",
      "38/38 [==============================] - 0s 2ms/step - loss: 0.1130 - val_loss: 0.0860\n",
      "Epoch 17/150\n",
      "38/38 [==============================] - 0s 2ms/step - loss: 0.1123 - val_loss: 0.0843\n",
      "Epoch 18/150\n",
      "38/38 [==============================] - 0s 2ms/step - loss: 0.1091 - val_loss: 0.0828\n",
      "Epoch 19/150\n",
      "38/38 [==============================] - 0s 2ms/step - loss: 0.1069 - val_loss: 0.0813\n",
      "Epoch 20/150\n",
      "38/38 [==============================] - 0s 2ms/step - loss: 0.1065 - val_loss: 0.0801\n",
      "Epoch 21/150\n",
      "38/38 [==============================] - 0s 2ms/step - loss: 0.1028 - val_loss: 0.0791\n",
      "Epoch 22/150\n",
      "38/38 [==============================] - 0s 2ms/step - loss: 0.0994 - val_loss: 0.0780\n",
      "Epoch 23/150\n",
      "38/38 [==============================] - 0s 2ms/step - loss: 0.0981 - val_loss: 0.0770\n",
      "Epoch 24/150\n",
      "38/38 [==============================] - 0s 2ms/step - loss: 0.0962 - val_loss: 0.0760\n",
      "Epoch 25/150\n",
      "38/38 [==============================] - 0s 2ms/step - loss: 0.0964 - val_loss: 0.0750\n",
      "Epoch 26/150\n",
      "38/38 [==============================] - 0s 2ms/step - loss: 0.0953 - val_loss: 0.0742\n",
      "Epoch 27/150\n",
      "38/38 [==============================] - 0s 2ms/step - loss: 0.0938 - val_loss: 0.0735\n",
      "Epoch 28/150\n",
      "38/38 [==============================] - 0s 2ms/step - loss: 0.0935 - val_loss: 0.0726\n",
      "Epoch 29/150\n",
      "38/38 [==============================] - 0s 2ms/step - loss: 0.0893 - val_loss: 0.0718\n",
      "Epoch 30/150\n",
      "38/38 [==============================] - 0s 2ms/step - loss: 0.0920 - val_loss: 0.0710\n",
      "Epoch 31/150\n",
      "38/38 [==============================] - 0s 2ms/step - loss: 0.0880 - val_loss: 0.0704\n",
      "Epoch 32/150\n",
      "38/38 [==============================] - 0s 2ms/step - loss: 0.0869 - val_loss: 0.0698\n",
      "Epoch 33/150\n",
      "38/38 [==============================] - 0s 2ms/step - loss: 0.0881 - val_loss: 0.0693\n",
      "Epoch 34/150\n",
      "38/38 [==============================] - 0s 2ms/step - loss: 0.0870 - val_loss: 0.0688\n",
      "Epoch 35/150\n",
      "38/38 [==============================] - 0s 2ms/step - loss: 0.0848 - val_loss: 0.0682\n",
      "Epoch 36/150\n",
      "38/38 [==============================] - 0s 2ms/step - loss: 0.0845 - val_loss: 0.0677\n",
      "Epoch 37/150\n",
      "38/38 [==============================] - 0s 2ms/step - loss: 0.0823 - val_loss: 0.0672\n",
      "Epoch 38/150\n",
      "38/38 [==============================] - 0s 2ms/step - loss: 0.0809 - val_loss: 0.0668\n",
      "Epoch 39/150\n",
      "38/38 [==============================] - 0s 2ms/step - loss: 0.0824 - val_loss: 0.0663\n",
      "Epoch 40/150\n",
      "38/38 [==============================] - 0s 2ms/step - loss: 0.0796 - val_loss: 0.0658\n",
      "Epoch 41/150\n",
      "38/38 [==============================] - 0s 2ms/step - loss: 0.0797 - val_loss: 0.0654\n",
      "Epoch 42/150\n",
      "38/38 [==============================] - 0s 2ms/step - loss: 0.0800 - val_loss: 0.0651\n",
      "Epoch 43/150\n",
      "38/38 [==============================] - 0s 2ms/step - loss: 0.0767 - val_loss: 0.0647\n",
      "Epoch 44/150\n",
      "38/38 [==============================] - 0s 2ms/step - loss: 0.0769 - val_loss: 0.0644\n",
      "Epoch 45/150\n",
      "38/38 [==============================] - 0s 2ms/step - loss: 0.0786 - val_loss: 0.0641\n",
      "Epoch 46/150\n",
      "38/38 [==============================] - 0s 2ms/step - loss: 0.0759 - val_loss: 0.0638\n",
      "Epoch 47/150\n",
      "38/38 [==============================] - 0s 2ms/step - loss: 0.0752 - val_loss: 0.0635\n",
      "Epoch 48/150\n",
      "38/38 [==============================] - 0s 2ms/step - loss: 0.0744 - val_loss: 0.0631\n",
      "Epoch 49/150\n",
      "38/38 [==============================] - 0s 2ms/step - loss: 0.0753 - val_loss: 0.0629\n",
      "Epoch 50/150\n",
      "38/38 [==============================] - 0s 2ms/step - loss: 0.0736 - val_loss: 0.0627\n",
      "Epoch 51/150\n",
      "38/38 [==============================] - 0s 2ms/step - loss: 0.0739 - val_loss: 0.0624\n",
      "Epoch 52/150\n",
      "38/38 [==============================] - 0s 2ms/step - loss: 0.0727 - val_loss: 0.0621\n",
      "Epoch 53/150\n",
      "38/38 [==============================] - 0s 2ms/step - loss: 0.0731 - val_loss: 0.0619\n",
      "Epoch 54/150\n",
      "38/38 [==============================] - 0s 2ms/step - loss: 0.0711 - val_loss: 0.0616\n",
      "Epoch 55/150\n",
      "38/38 [==============================] - 0s 2ms/step - loss: 0.0714 - val_loss: 0.0615\n",
      "Epoch 56/150\n",
      "38/38 [==============================] - 0s 2ms/step - loss: 0.0688 - val_loss: 0.0614\n",
      "Epoch 57/150\n",
      "38/38 [==============================] - 0s 2ms/step - loss: 0.0707 - val_loss: 0.0612\n",
      "Epoch 58/150\n",
      "38/38 [==============================] - 0s 2ms/step - loss: 0.0702 - val_loss: 0.0610\n",
      "Epoch 59/150\n",
      "38/38 [==============================] - 0s 2ms/step - loss: 0.0699 - val_loss: 0.0607\n",
      "Epoch 60/150\n",
      "38/38 [==============================] - 0s 2ms/step - loss: 0.0687 - val_loss: 0.0605\n",
      "Epoch 61/150\n",
      "38/38 [==============================] - 0s 2ms/step - loss: 0.0677 - val_loss: 0.0604\n",
      "Epoch 62/150\n",
      "38/38 [==============================] - 0s 2ms/step - loss: 0.0680 - val_loss: 0.0601\n",
      "Epoch 63/150\n",
      "38/38 [==============================] - 0s 1ms/step - loss: 0.0671 - val_loss: 0.0599\n",
      "Epoch 64/150\n",
      "38/38 [==============================] - 0s 1ms/step - loss: 0.0678 - val_loss: 0.0596\n",
      "Epoch 65/150\n",
      "38/38 [==============================] - 0s 1ms/step - loss: 0.0672 - val_loss: 0.0594\n",
      "Epoch 66/150\n",
      "38/38 [==============================] - 0s 1ms/step - loss: 0.0661 - val_loss: 0.0592\n",
      "Epoch 67/150\n",
      "38/38 [==============================] - 0s 1ms/step - loss: 0.0664 - val_loss: 0.0590\n",
      "Epoch 68/150\n",
      "38/38 [==============================] - 0s 2ms/step - loss: 0.0661 - val_loss: 0.0589\n",
      "Epoch 69/150\n",
      "38/38 [==============================] - 0s 1ms/step - loss: 0.0644 - val_loss: 0.0587\n",
      "Epoch 70/150\n",
      "38/38 [==============================] - 0s 2ms/step - loss: 0.0645 - val_loss: 0.0586\n",
      "Epoch 71/150\n",
      "38/38 [==============================] - 0s 1ms/step - loss: 0.0656 - val_loss: 0.0584\n",
      "Epoch 72/150\n",
      "38/38 [==============================] - 0s 2ms/step - loss: 0.0637 - val_loss: 0.0583\n",
      "Epoch 73/150\n",
      "38/38 [==============================] - 0s 1ms/step - loss: 0.0635 - val_loss: 0.0581\n",
      "Epoch 74/150\n",
      "38/38 [==============================] - 0s 1ms/step - loss: 0.0651 - val_loss: 0.0579\n",
      "Epoch 75/150\n",
      "38/38 [==============================] - 0s 1ms/step - loss: 0.0641 - val_loss: 0.0577\n",
      "Epoch 76/150\n",
      "38/38 [==============================] - 0s 2ms/step - loss: 0.0629 - val_loss: 0.0575\n",
      "Epoch 77/150\n",
      "38/38 [==============================] - 0s 1ms/step - loss: 0.0635 - val_loss: 0.0574\n",
      "Epoch 78/150\n",
      "38/38 [==============================] - 0s 2ms/step - loss: 0.0632 - val_loss: 0.0573\n",
      "Epoch 79/150\n",
      "38/38 [==============================] - 0s 2ms/step - loss: 0.0632 - val_loss: 0.0571\n",
      "Epoch 80/150\n",
      "38/38 [==============================] - 0s 2ms/step - loss: 0.0628 - val_loss: 0.0569\n",
      "Epoch 81/150\n",
      "38/38 [==============================] - 0s 2ms/step - loss: 0.0621 - val_loss: 0.0568\n",
      "Epoch 82/150\n",
      "38/38 [==============================] - 0s 2ms/step - loss: 0.0600 - val_loss: 0.0566\n",
      "Epoch 83/150\n"
     ]
    },
    {
     "name": "stdout",
     "output_type": "stream",
     "text": [
      "38/38 [==============================] - 0s 2ms/step - loss: 0.0603 - val_loss: 0.0564\n",
      "Epoch 84/150\n",
      "38/38 [==============================] - 0s 2ms/step - loss: 0.0625 - val_loss: 0.0562\n",
      "Epoch 85/150\n",
      "38/38 [==============================] - 0s 2ms/step - loss: 0.0610 - val_loss: 0.0560\n",
      "Epoch 86/150\n",
      "38/38 [==============================] - 0s 2ms/step - loss: 0.0600 - val_loss: 0.0559\n",
      "Epoch 87/150\n",
      "38/38 [==============================] - 0s 2ms/step - loss: 0.0601 - val_loss: 0.0558\n",
      "Epoch 88/150\n",
      "38/38 [==============================] - 0s 2ms/step - loss: 0.0590 - val_loss: 0.0555\n",
      "Epoch 89/150\n",
      "38/38 [==============================] - 0s 2ms/step - loss: 0.0591 - val_loss: 0.0553\n",
      "Epoch 90/150\n",
      "38/38 [==============================] - 0s 2ms/step - loss: 0.0596 - val_loss: 0.0552\n",
      "Epoch 91/150\n",
      "38/38 [==============================] - 0s 2ms/step - loss: 0.0596 - val_loss: 0.0550\n",
      "Epoch 92/150\n",
      "38/38 [==============================] - 0s 2ms/step - loss: 0.0565 - val_loss: 0.0548\n",
      "Epoch 93/150\n",
      "38/38 [==============================] - 0s 2ms/step - loss: 0.0583 - val_loss: 0.0545\n",
      "Epoch 94/150\n",
      "38/38 [==============================] - 0s 2ms/step - loss: 0.0592 - val_loss: 0.0545\n",
      "Epoch 95/150\n",
      "38/38 [==============================] - 0s 2ms/step - loss: 0.0577 - val_loss: 0.0543\n",
      "Epoch 96/150\n",
      "38/38 [==============================] - 0s 1ms/step - loss: 0.0575 - val_loss: 0.0544\n"
     ]
    }
   ],
   "source": [
    "nb_epoch = 150\n",
    "batch_size = 256\n",
    "adam = Adam(lr=0.0005)\n",
    "classModel.compile(optimizer=adam, \n",
    "                    loss='mean_squared_error')\n",
    "\n",
    "earlystopping = EarlyStopping(monitor='val_loss', patience=1, verbose=0)\n",
    "\n",
    "checkpointer = ModelCheckpoint(filepath=\"classifier.h5\",\n",
    "                               verbose=0,\n",
    "                               save_best_only=True)\n",
    "\n",
    "class_history = classModel.fit(x=train[featuresList], y=train['y'],\n",
    "                    epochs=nb_epoch,\n",
    "                    batch_size=batch_size,\n",
    "                    shuffle=True,\n",
    "                    validation_data=(test[featuresList], test['y']),\n",
    "                    verbose=1,\n",
    "                    callbacks=[earlystopping, checkpointer]).history"
   ]
  },
  {
   "cell_type": "markdown",
   "metadata": {},
   "source": [
    "### Evaluating Classifier"
   ]
  },
  {
   "cell_type": "code",
   "execution_count": 179,
   "metadata": {},
   "outputs": [
    {
     "data": {
      "image/png": "[encoded data removed]",
      "text/plain": [
       "<Figure size 1008x576 with 1 Axes>"
      ]
     },
     "metadata": {
      "needs_background": "light"
     },
     "output_type": "display_data"
    }
   ],
   "source": [
    "plt.plot(class_history['loss'])\n",
    "plt.plot(class_history['val_loss'])\n",
    "plt.title('model loss')\n",
    "plt.ylabel('loss')\n",
    "plt.xlabel('epoch')\n",
    "plt.legend(['train', 'test'], loc='upper right');"
   ]
  },
  {
   "cell_type": "code",
   "execution_count": 180,
   "metadata": {},
   "outputs": [],
   "source": [
    "fittedClassifier = load_model('classifier.h5')"
   ]
  },
  {
   "cell_type": "code",
   "execution_count": 181,
   "metadata": {},
   "outputs": [],
   "source": [
    "testProb = fittedClassifier.predict(test[featuresList])"
   ]
  },
  {
   "cell_type": "code",
   "execution_count": 182,
   "metadata": {},
   "outputs": [],
   "source": [
    "testProb = testProb[:,0]\n",
    "class_prob_df = pd.DataFrame({'probabilities': testProb,\n",
    "                        'true_class': test['y']})"
   ]
  },
  {
   "cell_type": "code",
   "execution_count": 183,
   "metadata": {},
   "outputs": [
    {
     "data": {
      "image/png": "[encoded data removed]",
      "text/plain": [
       "<Figure size 1008x576 with 1 Axes>"
      ]
     },
     "metadata": {
      "needs_background": "light"
     },
     "output_type": "display_data"
    }
   ],
   "source": [
    "fpr, tpr, thresholds = roc_curve(class_prob_df.true_class, class_prob_df.probabilities)\n",
    "roc_auc = auc(fpr, tpr)\n",
    "\n",
    "plt.title('Classifier, ROC')\n",
    "plt.plot(fpr, tpr, label='AUC = %0.4f'% roc_auc)\n",
    "plt.legend(loc='lower right')\n",
    "plt.plot([0,1],[0,1],'r--')\n",
    "plt.xlim([-0.001, 1])\n",
    "plt.ylim([0, 1.001])\n",
    "plt.ylabel('True Positive Rate')\n",
    "plt.xlabel('False Positive Rate')\n",
    "plt.show();"
   ]
  },
  {
   "cell_type": "code",
   "execution_count": 184,
   "metadata": {},
   "outputs": [
    {
     "data": {
      "image/png": "[encoded data removed]",
      "text/plain": [
       "<Figure size 1008x576 with 1 Axes>"
      ]
     },
     "metadata": {
      "needs_background": "light"
     },
     "output_type": "display_data"
    }
   ],
   "source": [
    "class_threshold = 0.5\n",
    "groups = class_prob_df.groupby('true_class')\n",
    "fig, ax = plt.subplots()\n",
    "\n",
    "for name, group in groups:\n",
    "    if name == 1:\n",
    "        MarkerSize = 3.5\n",
    "        Color = 'orangered'\n",
    "        Label = 'Fraud'\n",
    "        Marker = 'd'\n",
    "    else:\n",
    "        MarkerSize = 3.5\n",
    "        Color = 'b'\n",
    "        Label = 'Normal'\n",
    "        Marker = 'o'\n",
    "    ax.plot(group.index, group.probabilities, \n",
    "            linestyle='',\n",
    "            color=Color,\n",
    "            label=Label,\n",
    "            ms=MarkerSize,\n",
    "            marker=Marker)\n",
    "ax.hlines(class_threshold, ax.get_xlim()[0], ax.get_xlim()[1], colors=\"r\", zorder=100, label='Threshold')\n",
    "ax.legend(bbox_to_anchor=(0.9, 1))\n",
    "plt.title(\"Classifier, Predicted probabilities\")\n",
    "plt.ylabel(\"Probability\")\n",
    "plt.xlabel(\"Data point index\")\n",
    "plt.show();"
   ]
  },
  {
   "cell_type": "code",
   "execution_count": 185,
   "metadata": {},
   "outputs": [
    {
     "name": "stdout",
     "output_type": "stream",
     "text": [
      "[[2149   13]\n",
      " [ 142  111]]\n"
     ]
    },
    {
     "data": {
      "image/png": "[encoded data removed]",
      "text/plain": [
       "<Figure size 648x648 with 2 Axes>"
      ]
     },
     "metadata": {
      "needs_background": "light"
     },
     "output_type": "display_data"
    }
   ],
   "source": [
    "LABELS = [\"Normal\", \"Fraud\"]\n",
    "y_pred = [1 if e > class_threshold else 0 for e in class_prob_df.probabilities.values]\n",
    "conf_matrix = confusion_matrix(class_prob_df.true_class, y_pred)\n",
    "print(conf_matrix)\n",
    "\n",
    "plt.figure(figsize=(9, 9))\n",
    "sns.heatmap(conf_matrix, xticklabels=LABELS, yticklabels=LABELS, annot=True, fmt=\"d\");\n",
    "plt.title(\"Classifier, Confusion matrix\")\n",
    "plt.ylabel('True class')\n",
    "plt.xlabel('Predicted class')\n",
    "plt.show()"
   ]
  },
  {
   "cell_type": "code",
   "execution_count": 186,
   "metadata": {},
   "outputs": [
    {
     "name": "stdout",
     "output_type": "stream",
     "text": [
      "              precision    recall  f1-score   support\n",
      "\n",
      "           0       0.94      0.99      0.97      2162\n",
      "           1       0.90      0.44      0.59       253\n",
      "\n",
      "    accuracy                           0.94      2415\n",
      "   macro avg       0.92      0.72      0.78      2415\n",
      "weighted avg       0.93      0.94      0.93      2415\n",
      "\n"
     ]
    }
   ],
   "source": [
    "# print classification report \n",
    "print(classification_report(class_prob_df.true_class, y_pred))"
   ]
  },
  {
   "cell_type": "code",
   "execution_count": 187,
   "metadata": {},
   "outputs": [
    {
     "name": "stdout",
     "output_type": "stream",
     "text": [
      "Cohen's Kappa =  0.5584285210407792\n",
      "Accuracy =  0.9358178053830227\n"
     ]
    }
   ],
   "source": [
    "print(\"Cohen's Kappa = \", cohen_kappa_score(class_prob_df.true_class, y_pred))\n",
    "print(\"Accuracy = \", accuracy_score(class_prob_df.true_class, y_pred))"
   ]
  },
  {
   "cell_type": "markdown",
   "metadata": {},
   "source": [
    "Both vaule of this classifier model is better. As the result, the classifier model is going to use for prediction dataset."
   ]
  }
 ],
 "metadata": {
  "kernelspec": {
   "display_name": "Python 3",
   "language": "python",
   "name": "python3"
  },
  "language_info": {
   "codemirror_mode": {
    "name": "ipython",
    "version": 3
   },
   "file_extension": ".py",
   "mimetype": "text/x-python",
   "name": "python",
   "nbconvert_exporter": "python",
   "pygments_lexer": "ipython3",
   "version": "3.7.4"
  }
 },
 "nbformat": 4,
 "nbformat_minor": 2
}
